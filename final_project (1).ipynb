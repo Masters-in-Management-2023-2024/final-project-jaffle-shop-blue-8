{
  "cells": [
    {
      "cell_type": "markdown",
      "metadata": {
        "id": "LsapM--0AFPV"
      },
      "source": [
        "# Jaffle Shop Data Analysis - Final Project\n",
        "\n",
        "## Instructions\n",
        "You have been hired as a data analyst for Jaffle Shop, a growing chain of gourmet toasted sandwich restaurants. The executive team needs insights to make strategic business decisions.\n",
        "\n",
        "Using the provided datasets and Python Polars, analyze the business performance and provide data-driven recommendations. You must use Polars for all data manipulation and analysis.\n",
        "\n",
        "## Available Data\n",
        "- `Customers.csv`: Customer information\n",
        "- `Orders.csv`: Order transactions with totals and timestamps\n",
        "- `Items.csv`: Individual items within each order\n",
        "- `Products.csv`: Product catalog with prices and descriptions\n",
        "- `Stores.csv`: Store locations and opening dates\n",
        "- `Supplies.csv`: Supply costs for each product\n",
        "\n",
        "**Time Limit: 90 minutes**"
      ]
    },
    {
      "cell_type": "markdown",
      "metadata": {
        "id": "SHO9NbfzAFPX"
      },
      "source": [
        "## Setup and Data Loading"
      ]
    },
    {
      "cell_type": "code",
      "execution_count": 1,
      "metadata": {
        "colab": {
          "base_uri": "https://localhost:8080/",
          "height": 354
        },
        "id": "3YhNhXwEAFPX",
        "outputId": "b818fd69-1c8a-42be-daf5-5b354345e41a"
      },
      "outputs": [
        {
          "output_type": "display_data",
          "data": {
            "text/plain": [
              "<IPython.core.display.HTML object>"
            ],
            "text/html": [
              "\n",
              "     <input type=\"file\" id=\"files-50f46c83-7dee-4ef9-8c78-094a17a6f0bb\" name=\"files[]\" multiple disabled\n",
              "        style=\"border:none\" />\n",
              "     <output id=\"result-50f46c83-7dee-4ef9-8c78-094a17a6f0bb\">\n",
              "      Upload widget is only available when the cell has been executed in the\n",
              "      current browser session. Please rerun this cell to enable.\n",
              "      </output>\n",
              "      <script>// Copyright 2017 Google LLC\n",
              "//\n",
              "// Licensed under the Apache License, Version 2.0 (the \"License\");\n",
              "// you may not use this file except in compliance with the License.\n",
              "// You may obtain a copy of the License at\n",
              "//\n",
              "//      http://www.apache.org/licenses/LICENSE-2.0\n",
              "//\n",
              "// Unless required by applicable law or agreed to in writing, software\n",
              "// distributed under the License is distributed on an \"AS IS\" BASIS,\n",
              "// WITHOUT WARRANTIES OR CONDITIONS OF ANY KIND, either express or implied.\n",
              "// See the License for the specific language governing permissions and\n",
              "// limitations under the License.\n",
              "\n",
              "/**\n",
              " * @fileoverview Helpers for google.colab Python module.\n",
              " */\n",
              "(function(scope) {\n",
              "function span(text, styleAttributes = {}) {\n",
              "  const element = document.createElement('span');\n",
              "  element.textContent = text;\n",
              "  for (const key of Object.keys(styleAttributes)) {\n",
              "    element.style[key] = styleAttributes[key];\n",
              "  }\n",
              "  return element;\n",
              "}\n",
              "\n",
              "// Max number of bytes which will be uploaded at a time.\n",
              "const MAX_PAYLOAD_SIZE = 100 * 1024;\n",
              "\n",
              "function _uploadFiles(inputId, outputId) {\n",
              "  const steps = uploadFilesStep(inputId, outputId);\n",
              "  const outputElement = document.getElementById(outputId);\n",
              "  // Cache steps on the outputElement to make it available for the next call\n",
              "  // to uploadFilesContinue from Python.\n",
              "  outputElement.steps = steps;\n",
              "\n",
              "  return _uploadFilesContinue(outputId);\n",
              "}\n",
              "\n",
              "// This is roughly an async generator (not supported in the browser yet),\n",
              "// where there are multiple asynchronous steps and the Python side is going\n",
              "// to poll for completion of each step.\n",
              "// This uses a Promise to block the python side on completion of each step,\n",
              "// then passes the result of the previous step as the input to the next step.\n",
              "function _uploadFilesContinue(outputId) {\n",
              "  const outputElement = document.getElementById(outputId);\n",
              "  const steps = outputElement.steps;\n",
              "\n",
              "  const next = steps.next(outputElement.lastPromiseValue);\n",
              "  return Promise.resolve(next.value.promise).then((value) => {\n",
              "    // Cache the last promise value to make it available to the next\n",
              "    // step of the generator.\n",
              "    outputElement.lastPromiseValue = value;\n",
              "    return next.value.response;\n",
              "  });\n",
              "}\n",
              "\n",
              "/**\n",
              " * Generator function which is called between each async step of the upload\n",
              " * process.\n",
              " * @param {string} inputId Element ID of the input file picker element.\n",
              " * @param {string} outputId Element ID of the output display.\n",
              " * @return {!Iterable<!Object>} Iterable of next steps.\n",
              " */\n",
              "function* uploadFilesStep(inputId, outputId) {\n",
              "  const inputElement = document.getElementById(inputId);\n",
              "  inputElement.disabled = false;\n",
              "\n",
              "  const outputElement = document.getElementById(outputId);\n",
              "  outputElement.innerHTML = '';\n",
              "\n",
              "  const pickedPromise = new Promise((resolve) => {\n",
              "    inputElement.addEventListener('change', (e) => {\n",
              "      resolve(e.target.files);\n",
              "    });\n",
              "  });\n",
              "\n",
              "  const cancel = document.createElement('button');\n",
              "  inputElement.parentElement.appendChild(cancel);\n",
              "  cancel.textContent = 'Cancel upload';\n",
              "  const cancelPromise = new Promise((resolve) => {\n",
              "    cancel.onclick = () => {\n",
              "      resolve(null);\n",
              "    };\n",
              "  });\n",
              "\n",
              "  // Wait for the user to pick the files.\n",
              "  const files = yield {\n",
              "    promise: Promise.race([pickedPromise, cancelPromise]),\n",
              "    response: {\n",
              "      action: 'starting',\n",
              "    }\n",
              "  };\n",
              "\n",
              "  cancel.remove();\n",
              "\n",
              "  // Disable the input element since further picks are not allowed.\n",
              "  inputElement.disabled = true;\n",
              "\n",
              "  if (!files) {\n",
              "    return {\n",
              "      response: {\n",
              "        action: 'complete',\n",
              "      }\n",
              "    };\n",
              "  }\n",
              "\n",
              "  for (const file of files) {\n",
              "    const li = document.createElement('li');\n",
              "    li.append(span(file.name, {fontWeight: 'bold'}));\n",
              "    li.append(span(\n",
              "        `(${file.type || 'n/a'}) - ${file.size} bytes, ` +\n",
              "        `last modified: ${\n",
              "            file.lastModifiedDate ? file.lastModifiedDate.toLocaleDateString() :\n",
              "                                    'n/a'} - `));\n",
              "    const percent = span('0% done');\n",
              "    li.appendChild(percent);\n",
              "\n",
              "    outputElement.appendChild(li);\n",
              "\n",
              "    const fileDataPromise = new Promise((resolve) => {\n",
              "      const reader = new FileReader();\n",
              "      reader.onload = (e) => {\n",
              "        resolve(e.target.result);\n",
              "      };\n",
              "      reader.readAsArrayBuffer(file);\n",
              "    });\n",
              "    // Wait for the data to be ready.\n",
              "    let fileData = yield {\n",
              "      promise: fileDataPromise,\n",
              "      response: {\n",
              "        action: 'continue',\n",
              "      }\n",
              "    };\n",
              "\n",
              "    // Use a chunked sending to avoid message size limits. See b/62115660.\n",
              "    let position = 0;\n",
              "    do {\n",
              "      const length = Math.min(fileData.byteLength - position, MAX_PAYLOAD_SIZE);\n",
              "      const chunk = new Uint8Array(fileData, position, length);\n",
              "      position += length;\n",
              "\n",
              "      const base64 = btoa(String.fromCharCode.apply(null, chunk));\n",
              "      yield {\n",
              "        response: {\n",
              "          action: 'append',\n",
              "          file: file.name,\n",
              "          data: base64,\n",
              "        },\n",
              "      };\n",
              "\n",
              "      let percentDone = fileData.byteLength === 0 ?\n",
              "          100 :\n",
              "          Math.round((position / fileData.byteLength) * 100);\n",
              "      percent.textContent = `${percentDone}% done`;\n",
              "\n",
              "    } while (position < fileData.byteLength);\n",
              "  }\n",
              "\n",
              "  // All done.\n",
              "  yield {\n",
              "    response: {\n",
              "      action: 'complete',\n",
              "    }\n",
              "  };\n",
              "}\n",
              "\n",
              "scope.google = scope.google || {};\n",
              "scope.google.colab = scope.google.colab || {};\n",
              "scope.google.colab._files = {\n",
              "  _uploadFiles,\n",
              "  _uploadFilesContinue,\n",
              "};\n",
              "})(self);\n",
              "</script> "
            ]
          },
          "metadata": {}
        },
        {
          "output_type": "stream",
          "name": "stdout",
          "text": [
            "Saving Customers.csv to Customers.csv\n"
          ]
        },
        {
          "output_type": "display_data",
          "data": {
            "text/plain": [
              "<IPython.core.display.HTML object>"
            ],
            "text/html": [
              "\n",
              "     <input type=\"file\" id=\"files-19344d04-de71-4dde-a1ac-a4bcd9a50371\" name=\"files[]\" multiple disabled\n",
              "        style=\"border:none\" />\n",
              "     <output id=\"result-19344d04-de71-4dde-a1ac-a4bcd9a50371\">\n",
              "      Upload widget is only available when the cell has been executed in the\n",
              "      current browser session. Please rerun this cell to enable.\n",
              "      </output>\n",
              "      <script>// Copyright 2017 Google LLC\n",
              "//\n",
              "// Licensed under the Apache License, Version 2.0 (the \"License\");\n",
              "// you may not use this file except in compliance with the License.\n",
              "// You may obtain a copy of the License at\n",
              "//\n",
              "//      http://www.apache.org/licenses/LICENSE-2.0\n",
              "//\n",
              "// Unless required by applicable law or agreed to in writing, software\n",
              "// distributed under the License is distributed on an \"AS IS\" BASIS,\n",
              "// WITHOUT WARRANTIES OR CONDITIONS OF ANY KIND, either express or implied.\n",
              "// See the License for the specific language governing permissions and\n",
              "// limitations under the License.\n",
              "\n",
              "/**\n",
              " * @fileoverview Helpers for google.colab Python module.\n",
              " */\n",
              "(function(scope) {\n",
              "function span(text, styleAttributes = {}) {\n",
              "  const element = document.createElement('span');\n",
              "  element.textContent = text;\n",
              "  for (const key of Object.keys(styleAttributes)) {\n",
              "    element.style[key] = styleAttributes[key];\n",
              "  }\n",
              "  return element;\n",
              "}\n",
              "\n",
              "// Max number of bytes which will be uploaded at a time.\n",
              "const MAX_PAYLOAD_SIZE = 100 * 1024;\n",
              "\n",
              "function _uploadFiles(inputId, outputId) {\n",
              "  const steps = uploadFilesStep(inputId, outputId);\n",
              "  const outputElement = document.getElementById(outputId);\n",
              "  // Cache steps on the outputElement to make it available for the next call\n",
              "  // to uploadFilesContinue from Python.\n",
              "  outputElement.steps = steps;\n",
              "\n",
              "  return _uploadFilesContinue(outputId);\n",
              "}\n",
              "\n",
              "// This is roughly an async generator (not supported in the browser yet),\n",
              "// where there are multiple asynchronous steps and the Python side is going\n",
              "// to poll for completion of each step.\n",
              "// This uses a Promise to block the python side on completion of each step,\n",
              "// then passes the result of the previous step as the input to the next step.\n",
              "function _uploadFilesContinue(outputId) {\n",
              "  const outputElement = document.getElementById(outputId);\n",
              "  const steps = outputElement.steps;\n",
              "\n",
              "  const next = steps.next(outputElement.lastPromiseValue);\n",
              "  return Promise.resolve(next.value.promise).then((value) => {\n",
              "    // Cache the last promise value to make it available to the next\n",
              "    // step of the generator.\n",
              "    outputElement.lastPromiseValue = value;\n",
              "    return next.value.response;\n",
              "  });\n",
              "}\n",
              "\n",
              "/**\n",
              " * Generator function which is called between each async step of the upload\n",
              " * process.\n",
              " * @param {string} inputId Element ID of the input file picker element.\n",
              " * @param {string} outputId Element ID of the output display.\n",
              " * @return {!Iterable<!Object>} Iterable of next steps.\n",
              " */\n",
              "function* uploadFilesStep(inputId, outputId) {\n",
              "  const inputElement = document.getElementById(inputId);\n",
              "  inputElement.disabled = false;\n",
              "\n",
              "  const outputElement = document.getElementById(outputId);\n",
              "  outputElement.innerHTML = '';\n",
              "\n",
              "  const pickedPromise = new Promise((resolve) => {\n",
              "    inputElement.addEventListener('change', (e) => {\n",
              "      resolve(e.target.files);\n",
              "    });\n",
              "  });\n",
              "\n",
              "  const cancel = document.createElement('button');\n",
              "  inputElement.parentElement.appendChild(cancel);\n",
              "  cancel.textContent = 'Cancel upload';\n",
              "  const cancelPromise = new Promise((resolve) => {\n",
              "    cancel.onclick = () => {\n",
              "      resolve(null);\n",
              "    };\n",
              "  });\n",
              "\n",
              "  // Wait for the user to pick the files.\n",
              "  const files = yield {\n",
              "    promise: Promise.race([pickedPromise, cancelPromise]),\n",
              "    response: {\n",
              "      action: 'starting',\n",
              "    }\n",
              "  };\n",
              "\n",
              "  cancel.remove();\n",
              "\n",
              "  // Disable the input element since further picks are not allowed.\n",
              "  inputElement.disabled = true;\n",
              "\n",
              "  if (!files) {\n",
              "    return {\n",
              "      response: {\n",
              "        action: 'complete',\n",
              "      }\n",
              "    };\n",
              "  }\n",
              "\n",
              "  for (const file of files) {\n",
              "    const li = document.createElement('li');\n",
              "    li.append(span(file.name, {fontWeight: 'bold'}));\n",
              "    li.append(span(\n",
              "        `(${file.type || 'n/a'}) - ${file.size} bytes, ` +\n",
              "        `last modified: ${\n",
              "            file.lastModifiedDate ? file.lastModifiedDate.toLocaleDateString() :\n",
              "                                    'n/a'} - `));\n",
              "    const percent = span('0% done');\n",
              "    li.appendChild(percent);\n",
              "\n",
              "    outputElement.appendChild(li);\n",
              "\n",
              "    const fileDataPromise = new Promise((resolve) => {\n",
              "      const reader = new FileReader();\n",
              "      reader.onload = (e) => {\n",
              "        resolve(e.target.result);\n",
              "      };\n",
              "      reader.readAsArrayBuffer(file);\n",
              "    });\n",
              "    // Wait for the data to be ready.\n",
              "    let fileData = yield {\n",
              "      promise: fileDataPromise,\n",
              "      response: {\n",
              "        action: 'continue',\n",
              "      }\n",
              "    };\n",
              "\n",
              "    // Use a chunked sending to avoid message size limits. See b/62115660.\n",
              "    let position = 0;\n",
              "    do {\n",
              "      const length = Math.min(fileData.byteLength - position, MAX_PAYLOAD_SIZE);\n",
              "      const chunk = new Uint8Array(fileData, position, length);\n",
              "      position += length;\n",
              "\n",
              "      const base64 = btoa(String.fromCharCode.apply(null, chunk));\n",
              "      yield {\n",
              "        response: {\n",
              "          action: 'append',\n",
              "          file: file.name,\n",
              "          data: base64,\n",
              "        },\n",
              "      };\n",
              "\n",
              "      let percentDone = fileData.byteLength === 0 ?\n",
              "          100 :\n",
              "          Math.round((position / fileData.byteLength) * 100);\n",
              "      percent.textContent = `${percentDone}% done`;\n",
              "\n",
              "    } while (position < fileData.byteLength);\n",
              "  }\n",
              "\n",
              "  // All done.\n",
              "  yield {\n",
              "    response: {\n",
              "      action: 'complete',\n",
              "    }\n",
              "  };\n",
              "}\n",
              "\n",
              "scope.google = scope.google || {};\n",
              "scope.google.colab = scope.google.colab || {};\n",
              "scope.google.colab._files = {\n",
              "  _uploadFiles,\n",
              "  _uploadFilesContinue,\n",
              "};\n",
              "})(self);\n",
              "</script> "
            ]
          },
          "metadata": {}
        },
        {
          "output_type": "stream",
          "name": "stdout",
          "text": [
            "Saving Items.csv to Items.csv\n"
          ]
        },
        {
          "output_type": "display_data",
          "data": {
            "text/plain": [
              "<IPython.core.display.HTML object>"
            ],
            "text/html": [
              "\n",
              "     <input type=\"file\" id=\"files-02266b85-0d35-4aa9-8e5b-04352d21d7fd\" name=\"files[]\" multiple disabled\n",
              "        style=\"border:none\" />\n",
              "     <output id=\"result-02266b85-0d35-4aa9-8e5b-04352d21d7fd\">\n",
              "      Upload widget is only available when the cell has been executed in the\n",
              "      current browser session. Please rerun this cell to enable.\n",
              "      </output>\n",
              "      <script>// Copyright 2017 Google LLC\n",
              "//\n",
              "// Licensed under the Apache License, Version 2.0 (the \"License\");\n",
              "// you may not use this file except in compliance with the License.\n",
              "// You may obtain a copy of the License at\n",
              "//\n",
              "//      http://www.apache.org/licenses/LICENSE-2.0\n",
              "//\n",
              "// Unless required by applicable law or agreed to in writing, software\n",
              "// distributed under the License is distributed on an \"AS IS\" BASIS,\n",
              "// WITHOUT WARRANTIES OR CONDITIONS OF ANY KIND, either express or implied.\n",
              "// See the License for the specific language governing permissions and\n",
              "// limitations under the License.\n",
              "\n",
              "/**\n",
              " * @fileoverview Helpers for google.colab Python module.\n",
              " */\n",
              "(function(scope) {\n",
              "function span(text, styleAttributes = {}) {\n",
              "  const element = document.createElement('span');\n",
              "  element.textContent = text;\n",
              "  for (const key of Object.keys(styleAttributes)) {\n",
              "    element.style[key] = styleAttributes[key];\n",
              "  }\n",
              "  return element;\n",
              "}\n",
              "\n",
              "// Max number of bytes which will be uploaded at a time.\n",
              "const MAX_PAYLOAD_SIZE = 100 * 1024;\n",
              "\n",
              "function _uploadFiles(inputId, outputId) {\n",
              "  const steps = uploadFilesStep(inputId, outputId);\n",
              "  const outputElement = document.getElementById(outputId);\n",
              "  // Cache steps on the outputElement to make it available for the next call\n",
              "  // to uploadFilesContinue from Python.\n",
              "  outputElement.steps = steps;\n",
              "\n",
              "  return _uploadFilesContinue(outputId);\n",
              "}\n",
              "\n",
              "// This is roughly an async generator (not supported in the browser yet),\n",
              "// where there are multiple asynchronous steps and the Python side is going\n",
              "// to poll for completion of each step.\n",
              "// This uses a Promise to block the python side on completion of each step,\n",
              "// then passes the result of the previous step as the input to the next step.\n",
              "function _uploadFilesContinue(outputId) {\n",
              "  const outputElement = document.getElementById(outputId);\n",
              "  const steps = outputElement.steps;\n",
              "\n",
              "  const next = steps.next(outputElement.lastPromiseValue);\n",
              "  return Promise.resolve(next.value.promise).then((value) => {\n",
              "    // Cache the last promise value to make it available to the next\n",
              "    // step of the generator.\n",
              "    outputElement.lastPromiseValue = value;\n",
              "    return next.value.response;\n",
              "  });\n",
              "}\n",
              "\n",
              "/**\n",
              " * Generator function which is called between each async step of the upload\n",
              " * process.\n",
              " * @param {string} inputId Element ID of the input file picker element.\n",
              " * @param {string} outputId Element ID of the output display.\n",
              " * @return {!Iterable<!Object>} Iterable of next steps.\n",
              " */\n",
              "function* uploadFilesStep(inputId, outputId) {\n",
              "  const inputElement = document.getElementById(inputId);\n",
              "  inputElement.disabled = false;\n",
              "\n",
              "  const outputElement = document.getElementById(outputId);\n",
              "  outputElement.innerHTML = '';\n",
              "\n",
              "  const pickedPromise = new Promise((resolve) => {\n",
              "    inputElement.addEventListener('change', (e) => {\n",
              "      resolve(e.target.files);\n",
              "    });\n",
              "  });\n",
              "\n",
              "  const cancel = document.createElement('button');\n",
              "  inputElement.parentElement.appendChild(cancel);\n",
              "  cancel.textContent = 'Cancel upload';\n",
              "  const cancelPromise = new Promise((resolve) => {\n",
              "    cancel.onclick = () => {\n",
              "      resolve(null);\n",
              "    };\n",
              "  });\n",
              "\n",
              "  // Wait for the user to pick the files.\n",
              "  const files = yield {\n",
              "    promise: Promise.race([pickedPromise, cancelPromise]),\n",
              "    response: {\n",
              "      action: 'starting',\n",
              "    }\n",
              "  };\n",
              "\n",
              "  cancel.remove();\n",
              "\n",
              "  // Disable the input element since further picks are not allowed.\n",
              "  inputElement.disabled = true;\n",
              "\n",
              "  if (!files) {\n",
              "    return {\n",
              "      response: {\n",
              "        action: 'complete',\n",
              "      }\n",
              "    };\n",
              "  }\n",
              "\n",
              "  for (const file of files) {\n",
              "    const li = document.createElement('li');\n",
              "    li.append(span(file.name, {fontWeight: 'bold'}));\n",
              "    li.append(span(\n",
              "        `(${file.type || 'n/a'}) - ${file.size} bytes, ` +\n",
              "        `last modified: ${\n",
              "            file.lastModifiedDate ? file.lastModifiedDate.toLocaleDateString() :\n",
              "                                    'n/a'} - `));\n",
              "    const percent = span('0% done');\n",
              "    li.appendChild(percent);\n",
              "\n",
              "    outputElement.appendChild(li);\n",
              "\n",
              "    const fileDataPromise = new Promise((resolve) => {\n",
              "      const reader = new FileReader();\n",
              "      reader.onload = (e) => {\n",
              "        resolve(e.target.result);\n",
              "      };\n",
              "      reader.readAsArrayBuffer(file);\n",
              "    });\n",
              "    // Wait for the data to be ready.\n",
              "    let fileData = yield {\n",
              "      promise: fileDataPromise,\n",
              "      response: {\n",
              "        action: 'continue',\n",
              "      }\n",
              "    };\n",
              "\n",
              "    // Use a chunked sending to avoid message size limits. See b/62115660.\n",
              "    let position = 0;\n",
              "    do {\n",
              "      const length = Math.min(fileData.byteLength - position, MAX_PAYLOAD_SIZE);\n",
              "      const chunk = new Uint8Array(fileData, position, length);\n",
              "      position += length;\n",
              "\n",
              "      const base64 = btoa(String.fromCharCode.apply(null, chunk));\n",
              "      yield {\n",
              "        response: {\n",
              "          action: 'append',\n",
              "          file: file.name,\n",
              "          data: base64,\n",
              "        },\n",
              "      };\n",
              "\n",
              "      let percentDone = fileData.byteLength === 0 ?\n",
              "          100 :\n",
              "          Math.round((position / fileData.byteLength) * 100);\n",
              "      percent.textContent = `${percentDone}% done`;\n",
              "\n",
              "    } while (position < fileData.byteLength);\n",
              "  }\n",
              "\n",
              "  // All done.\n",
              "  yield {\n",
              "    response: {\n",
              "      action: 'complete',\n",
              "    }\n",
              "  };\n",
              "}\n",
              "\n",
              "scope.google = scope.google || {};\n",
              "scope.google.colab = scope.google.colab || {};\n",
              "scope.google.colab._files = {\n",
              "  _uploadFiles,\n",
              "  _uploadFilesContinue,\n",
              "};\n",
              "})(self);\n",
              "</script> "
            ]
          },
          "metadata": {}
        },
        {
          "output_type": "stream",
          "name": "stdout",
          "text": [
            "Saving Orders.csv to Orders.csv\n"
          ]
        },
        {
          "output_type": "display_data",
          "data": {
            "text/plain": [
              "<IPython.core.display.HTML object>"
            ],
            "text/html": [
              "\n",
              "     <input type=\"file\" id=\"files-f2ad8a2f-e0e9-490b-92d9-fceaa6a44e4e\" name=\"files[]\" multiple disabled\n",
              "        style=\"border:none\" />\n",
              "     <output id=\"result-f2ad8a2f-e0e9-490b-92d9-fceaa6a44e4e\">\n",
              "      Upload widget is only available when the cell has been executed in the\n",
              "      current browser session. Please rerun this cell to enable.\n",
              "      </output>\n",
              "      <script>// Copyright 2017 Google LLC\n",
              "//\n",
              "// Licensed under the Apache License, Version 2.0 (the \"License\");\n",
              "// you may not use this file except in compliance with the License.\n",
              "// You may obtain a copy of the License at\n",
              "//\n",
              "//      http://www.apache.org/licenses/LICENSE-2.0\n",
              "//\n",
              "// Unless required by applicable law or agreed to in writing, software\n",
              "// distributed under the License is distributed on an \"AS IS\" BASIS,\n",
              "// WITHOUT WARRANTIES OR CONDITIONS OF ANY KIND, either express or implied.\n",
              "// See the License for the specific language governing permissions and\n",
              "// limitations under the License.\n",
              "\n",
              "/**\n",
              " * @fileoverview Helpers for google.colab Python module.\n",
              " */\n",
              "(function(scope) {\n",
              "function span(text, styleAttributes = {}) {\n",
              "  const element = document.createElement('span');\n",
              "  element.textContent = text;\n",
              "  for (const key of Object.keys(styleAttributes)) {\n",
              "    element.style[key] = styleAttributes[key];\n",
              "  }\n",
              "  return element;\n",
              "}\n",
              "\n",
              "// Max number of bytes which will be uploaded at a time.\n",
              "const MAX_PAYLOAD_SIZE = 100 * 1024;\n",
              "\n",
              "function _uploadFiles(inputId, outputId) {\n",
              "  const steps = uploadFilesStep(inputId, outputId);\n",
              "  const outputElement = document.getElementById(outputId);\n",
              "  // Cache steps on the outputElement to make it available for the next call\n",
              "  // to uploadFilesContinue from Python.\n",
              "  outputElement.steps = steps;\n",
              "\n",
              "  return _uploadFilesContinue(outputId);\n",
              "}\n",
              "\n",
              "// This is roughly an async generator (not supported in the browser yet),\n",
              "// where there are multiple asynchronous steps and the Python side is going\n",
              "// to poll for completion of each step.\n",
              "// This uses a Promise to block the python side on completion of each step,\n",
              "// then passes the result of the previous step as the input to the next step.\n",
              "function _uploadFilesContinue(outputId) {\n",
              "  const outputElement = document.getElementById(outputId);\n",
              "  const steps = outputElement.steps;\n",
              "\n",
              "  const next = steps.next(outputElement.lastPromiseValue);\n",
              "  return Promise.resolve(next.value.promise).then((value) => {\n",
              "    // Cache the last promise value to make it available to the next\n",
              "    // step of the generator.\n",
              "    outputElement.lastPromiseValue = value;\n",
              "    return next.value.response;\n",
              "  });\n",
              "}\n",
              "\n",
              "/**\n",
              " * Generator function which is called between each async step of the upload\n",
              " * process.\n",
              " * @param {string} inputId Element ID of the input file picker element.\n",
              " * @param {string} outputId Element ID of the output display.\n",
              " * @return {!Iterable<!Object>} Iterable of next steps.\n",
              " */\n",
              "function* uploadFilesStep(inputId, outputId) {\n",
              "  const inputElement = document.getElementById(inputId);\n",
              "  inputElement.disabled = false;\n",
              "\n",
              "  const outputElement = document.getElementById(outputId);\n",
              "  outputElement.innerHTML = '';\n",
              "\n",
              "  const pickedPromise = new Promise((resolve) => {\n",
              "    inputElement.addEventListener('change', (e) => {\n",
              "      resolve(e.target.files);\n",
              "    });\n",
              "  });\n",
              "\n",
              "  const cancel = document.createElement('button');\n",
              "  inputElement.parentElement.appendChild(cancel);\n",
              "  cancel.textContent = 'Cancel upload';\n",
              "  const cancelPromise = new Promise((resolve) => {\n",
              "    cancel.onclick = () => {\n",
              "      resolve(null);\n",
              "    };\n",
              "  });\n",
              "\n",
              "  // Wait for the user to pick the files.\n",
              "  const files = yield {\n",
              "    promise: Promise.race([pickedPromise, cancelPromise]),\n",
              "    response: {\n",
              "      action: 'starting',\n",
              "    }\n",
              "  };\n",
              "\n",
              "  cancel.remove();\n",
              "\n",
              "  // Disable the input element since further picks are not allowed.\n",
              "  inputElement.disabled = true;\n",
              "\n",
              "  if (!files) {\n",
              "    return {\n",
              "      response: {\n",
              "        action: 'complete',\n",
              "      }\n",
              "    };\n",
              "  }\n",
              "\n",
              "  for (const file of files) {\n",
              "    const li = document.createElement('li');\n",
              "    li.append(span(file.name, {fontWeight: 'bold'}));\n",
              "    li.append(span(\n",
              "        `(${file.type || 'n/a'}) - ${file.size} bytes, ` +\n",
              "        `last modified: ${\n",
              "            file.lastModifiedDate ? file.lastModifiedDate.toLocaleDateString() :\n",
              "                                    'n/a'} - `));\n",
              "    const percent = span('0% done');\n",
              "    li.appendChild(percent);\n",
              "\n",
              "    outputElement.appendChild(li);\n",
              "\n",
              "    const fileDataPromise = new Promise((resolve) => {\n",
              "      const reader = new FileReader();\n",
              "      reader.onload = (e) => {\n",
              "        resolve(e.target.result);\n",
              "      };\n",
              "      reader.readAsArrayBuffer(file);\n",
              "    });\n",
              "    // Wait for the data to be ready.\n",
              "    let fileData = yield {\n",
              "      promise: fileDataPromise,\n",
              "      response: {\n",
              "        action: 'continue',\n",
              "      }\n",
              "    };\n",
              "\n",
              "    // Use a chunked sending to avoid message size limits. See b/62115660.\n",
              "    let position = 0;\n",
              "    do {\n",
              "      const length = Math.min(fileData.byteLength - position, MAX_PAYLOAD_SIZE);\n",
              "      const chunk = new Uint8Array(fileData, position, length);\n",
              "      position += length;\n",
              "\n",
              "      const base64 = btoa(String.fromCharCode.apply(null, chunk));\n",
              "      yield {\n",
              "        response: {\n",
              "          action: 'append',\n",
              "          file: file.name,\n",
              "          data: base64,\n",
              "        },\n",
              "      };\n",
              "\n",
              "      let percentDone = fileData.byteLength === 0 ?\n",
              "          100 :\n",
              "          Math.round((position / fileData.byteLength) * 100);\n",
              "      percent.textContent = `${percentDone}% done`;\n",
              "\n",
              "    } while (position < fileData.byteLength);\n",
              "  }\n",
              "\n",
              "  // All done.\n",
              "  yield {\n",
              "    response: {\n",
              "      action: 'complete',\n",
              "    }\n",
              "  };\n",
              "}\n",
              "\n",
              "scope.google = scope.google || {};\n",
              "scope.google.colab = scope.google.colab || {};\n",
              "scope.google.colab._files = {\n",
              "  _uploadFiles,\n",
              "  _uploadFilesContinue,\n",
              "};\n",
              "})(self);\n",
              "</script> "
            ]
          },
          "metadata": {}
        },
        {
          "output_type": "stream",
          "name": "stdout",
          "text": [
            "Saving Products.csv to Products.csv\n"
          ]
        },
        {
          "output_type": "display_data",
          "data": {
            "text/plain": [
              "<IPython.core.display.HTML object>"
            ],
            "text/html": [
              "\n",
              "     <input type=\"file\" id=\"files-99cae543-033f-4501-837b-dfceab5460be\" name=\"files[]\" multiple disabled\n",
              "        style=\"border:none\" />\n",
              "     <output id=\"result-99cae543-033f-4501-837b-dfceab5460be\">\n",
              "      Upload widget is only available when the cell has been executed in the\n",
              "      current browser session. Please rerun this cell to enable.\n",
              "      </output>\n",
              "      <script>// Copyright 2017 Google LLC\n",
              "//\n",
              "// Licensed under the Apache License, Version 2.0 (the \"License\");\n",
              "// you may not use this file except in compliance with the License.\n",
              "// You may obtain a copy of the License at\n",
              "//\n",
              "//      http://www.apache.org/licenses/LICENSE-2.0\n",
              "//\n",
              "// Unless required by applicable law or agreed to in writing, software\n",
              "// distributed under the License is distributed on an \"AS IS\" BASIS,\n",
              "// WITHOUT WARRANTIES OR CONDITIONS OF ANY KIND, either express or implied.\n",
              "// See the License for the specific language governing permissions and\n",
              "// limitations under the License.\n",
              "\n",
              "/**\n",
              " * @fileoverview Helpers for google.colab Python module.\n",
              " */\n",
              "(function(scope) {\n",
              "function span(text, styleAttributes = {}) {\n",
              "  const element = document.createElement('span');\n",
              "  element.textContent = text;\n",
              "  for (const key of Object.keys(styleAttributes)) {\n",
              "    element.style[key] = styleAttributes[key];\n",
              "  }\n",
              "  return element;\n",
              "}\n",
              "\n",
              "// Max number of bytes which will be uploaded at a time.\n",
              "const MAX_PAYLOAD_SIZE = 100 * 1024;\n",
              "\n",
              "function _uploadFiles(inputId, outputId) {\n",
              "  const steps = uploadFilesStep(inputId, outputId);\n",
              "  const outputElement = document.getElementById(outputId);\n",
              "  // Cache steps on the outputElement to make it available for the next call\n",
              "  // to uploadFilesContinue from Python.\n",
              "  outputElement.steps = steps;\n",
              "\n",
              "  return _uploadFilesContinue(outputId);\n",
              "}\n",
              "\n",
              "// This is roughly an async generator (not supported in the browser yet),\n",
              "// where there are multiple asynchronous steps and the Python side is going\n",
              "// to poll for completion of each step.\n",
              "// This uses a Promise to block the python side on completion of each step,\n",
              "// then passes the result of the previous step as the input to the next step.\n",
              "function _uploadFilesContinue(outputId) {\n",
              "  const outputElement = document.getElementById(outputId);\n",
              "  const steps = outputElement.steps;\n",
              "\n",
              "  const next = steps.next(outputElement.lastPromiseValue);\n",
              "  return Promise.resolve(next.value.promise).then((value) => {\n",
              "    // Cache the last promise value to make it available to the next\n",
              "    // step of the generator.\n",
              "    outputElement.lastPromiseValue = value;\n",
              "    return next.value.response;\n",
              "  });\n",
              "}\n",
              "\n",
              "/**\n",
              " * Generator function which is called between each async step of the upload\n",
              " * process.\n",
              " * @param {string} inputId Element ID of the input file picker element.\n",
              " * @param {string} outputId Element ID of the output display.\n",
              " * @return {!Iterable<!Object>} Iterable of next steps.\n",
              " */\n",
              "function* uploadFilesStep(inputId, outputId) {\n",
              "  const inputElement = document.getElementById(inputId);\n",
              "  inputElement.disabled = false;\n",
              "\n",
              "  const outputElement = document.getElementById(outputId);\n",
              "  outputElement.innerHTML = '';\n",
              "\n",
              "  const pickedPromise = new Promise((resolve) => {\n",
              "    inputElement.addEventListener('change', (e) => {\n",
              "      resolve(e.target.files);\n",
              "    });\n",
              "  });\n",
              "\n",
              "  const cancel = document.createElement('button');\n",
              "  inputElement.parentElement.appendChild(cancel);\n",
              "  cancel.textContent = 'Cancel upload';\n",
              "  const cancelPromise = new Promise((resolve) => {\n",
              "    cancel.onclick = () => {\n",
              "      resolve(null);\n",
              "    };\n",
              "  });\n",
              "\n",
              "  // Wait for the user to pick the files.\n",
              "  const files = yield {\n",
              "    promise: Promise.race([pickedPromise, cancelPromise]),\n",
              "    response: {\n",
              "      action: 'starting',\n",
              "    }\n",
              "  };\n",
              "\n",
              "  cancel.remove();\n",
              "\n",
              "  // Disable the input element since further picks are not allowed.\n",
              "  inputElement.disabled = true;\n",
              "\n",
              "  if (!files) {\n",
              "    return {\n",
              "      response: {\n",
              "        action: 'complete',\n",
              "      }\n",
              "    };\n",
              "  }\n",
              "\n",
              "  for (const file of files) {\n",
              "    const li = document.createElement('li');\n",
              "    li.append(span(file.name, {fontWeight: 'bold'}));\n",
              "    li.append(span(\n",
              "        `(${file.type || 'n/a'}) - ${file.size} bytes, ` +\n",
              "        `last modified: ${\n",
              "            file.lastModifiedDate ? file.lastModifiedDate.toLocaleDateString() :\n",
              "                                    'n/a'} - `));\n",
              "    const percent = span('0% done');\n",
              "    li.appendChild(percent);\n",
              "\n",
              "    outputElement.appendChild(li);\n",
              "\n",
              "    const fileDataPromise = new Promise((resolve) => {\n",
              "      const reader = new FileReader();\n",
              "      reader.onload = (e) => {\n",
              "        resolve(e.target.result);\n",
              "      };\n",
              "      reader.readAsArrayBuffer(file);\n",
              "    });\n",
              "    // Wait for the data to be ready.\n",
              "    let fileData = yield {\n",
              "      promise: fileDataPromise,\n",
              "      response: {\n",
              "        action: 'continue',\n",
              "      }\n",
              "    };\n",
              "\n",
              "    // Use a chunked sending to avoid message size limits. See b/62115660.\n",
              "    let position = 0;\n",
              "    do {\n",
              "      const length = Math.min(fileData.byteLength - position, MAX_PAYLOAD_SIZE);\n",
              "      const chunk = new Uint8Array(fileData, position, length);\n",
              "      position += length;\n",
              "\n",
              "      const base64 = btoa(String.fromCharCode.apply(null, chunk));\n",
              "      yield {\n",
              "        response: {\n",
              "          action: 'append',\n",
              "          file: file.name,\n",
              "          data: base64,\n",
              "        },\n",
              "      };\n",
              "\n",
              "      let percentDone = fileData.byteLength === 0 ?\n",
              "          100 :\n",
              "          Math.round((position / fileData.byteLength) * 100);\n",
              "      percent.textContent = `${percentDone}% done`;\n",
              "\n",
              "    } while (position < fileData.byteLength);\n",
              "  }\n",
              "\n",
              "  // All done.\n",
              "  yield {\n",
              "    response: {\n",
              "      action: 'complete',\n",
              "    }\n",
              "  };\n",
              "}\n",
              "\n",
              "scope.google = scope.google || {};\n",
              "scope.google.colab = scope.google.colab || {};\n",
              "scope.google.colab._files = {\n",
              "  _uploadFiles,\n",
              "  _uploadFilesContinue,\n",
              "};\n",
              "})(self);\n",
              "</script> "
            ]
          },
          "metadata": {}
        },
        {
          "output_type": "stream",
          "name": "stdout",
          "text": [
            "Saving Stores.csv to Stores.csv\n"
          ]
        },
        {
          "output_type": "display_data",
          "data": {
            "text/plain": [
              "<IPython.core.display.HTML object>"
            ],
            "text/html": [
              "\n",
              "     <input type=\"file\" id=\"files-0b524f7b-3d1d-45ee-a0b5-0bc2866cd8b0\" name=\"files[]\" multiple disabled\n",
              "        style=\"border:none\" />\n",
              "     <output id=\"result-0b524f7b-3d1d-45ee-a0b5-0bc2866cd8b0\">\n",
              "      Upload widget is only available when the cell has been executed in the\n",
              "      current browser session. Please rerun this cell to enable.\n",
              "      </output>\n",
              "      <script>// Copyright 2017 Google LLC\n",
              "//\n",
              "// Licensed under the Apache License, Version 2.0 (the \"License\");\n",
              "// you may not use this file except in compliance with the License.\n",
              "// You may obtain a copy of the License at\n",
              "//\n",
              "//      http://www.apache.org/licenses/LICENSE-2.0\n",
              "//\n",
              "// Unless required by applicable law or agreed to in writing, software\n",
              "// distributed under the License is distributed on an \"AS IS\" BASIS,\n",
              "// WITHOUT WARRANTIES OR CONDITIONS OF ANY KIND, either express or implied.\n",
              "// See the License for the specific language governing permissions and\n",
              "// limitations under the License.\n",
              "\n",
              "/**\n",
              " * @fileoverview Helpers for google.colab Python module.\n",
              " */\n",
              "(function(scope) {\n",
              "function span(text, styleAttributes = {}) {\n",
              "  const element = document.createElement('span');\n",
              "  element.textContent = text;\n",
              "  for (const key of Object.keys(styleAttributes)) {\n",
              "    element.style[key] = styleAttributes[key];\n",
              "  }\n",
              "  return element;\n",
              "}\n",
              "\n",
              "// Max number of bytes which will be uploaded at a time.\n",
              "const MAX_PAYLOAD_SIZE = 100 * 1024;\n",
              "\n",
              "function _uploadFiles(inputId, outputId) {\n",
              "  const steps = uploadFilesStep(inputId, outputId);\n",
              "  const outputElement = document.getElementById(outputId);\n",
              "  // Cache steps on the outputElement to make it available for the next call\n",
              "  // to uploadFilesContinue from Python.\n",
              "  outputElement.steps = steps;\n",
              "\n",
              "  return _uploadFilesContinue(outputId);\n",
              "}\n",
              "\n",
              "// This is roughly an async generator (not supported in the browser yet),\n",
              "// where there are multiple asynchronous steps and the Python side is going\n",
              "// to poll for completion of each step.\n",
              "// This uses a Promise to block the python side on completion of each step,\n",
              "// then passes the result of the previous step as the input to the next step.\n",
              "function _uploadFilesContinue(outputId) {\n",
              "  const outputElement = document.getElementById(outputId);\n",
              "  const steps = outputElement.steps;\n",
              "\n",
              "  const next = steps.next(outputElement.lastPromiseValue);\n",
              "  return Promise.resolve(next.value.promise).then((value) => {\n",
              "    // Cache the last promise value to make it available to the next\n",
              "    // step of the generator.\n",
              "    outputElement.lastPromiseValue = value;\n",
              "    return next.value.response;\n",
              "  });\n",
              "}\n",
              "\n",
              "/**\n",
              " * Generator function which is called between each async step of the upload\n",
              " * process.\n",
              " * @param {string} inputId Element ID of the input file picker element.\n",
              " * @param {string} outputId Element ID of the output display.\n",
              " * @return {!Iterable<!Object>} Iterable of next steps.\n",
              " */\n",
              "function* uploadFilesStep(inputId, outputId) {\n",
              "  const inputElement = document.getElementById(inputId);\n",
              "  inputElement.disabled = false;\n",
              "\n",
              "  const outputElement = document.getElementById(outputId);\n",
              "  outputElement.innerHTML = '';\n",
              "\n",
              "  const pickedPromise = new Promise((resolve) => {\n",
              "    inputElement.addEventListener('change', (e) => {\n",
              "      resolve(e.target.files);\n",
              "    });\n",
              "  });\n",
              "\n",
              "  const cancel = document.createElement('button');\n",
              "  inputElement.parentElement.appendChild(cancel);\n",
              "  cancel.textContent = 'Cancel upload';\n",
              "  const cancelPromise = new Promise((resolve) => {\n",
              "    cancel.onclick = () => {\n",
              "      resolve(null);\n",
              "    };\n",
              "  });\n",
              "\n",
              "  // Wait for the user to pick the files.\n",
              "  const files = yield {\n",
              "    promise: Promise.race([pickedPromise, cancelPromise]),\n",
              "    response: {\n",
              "      action: 'starting',\n",
              "    }\n",
              "  };\n",
              "\n",
              "  cancel.remove();\n",
              "\n",
              "  // Disable the input element since further picks are not allowed.\n",
              "  inputElement.disabled = true;\n",
              "\n",
              "  if (!files) {\n",
              "    return {\n",
              "      response: {\n",
              "        action: 'complete',\n",
              "      }\n",
              "    };\n",
              "  }\n",
              "\n",
              "  for (const file of files) {\n",
              "    const li = document.createElement('li');\n",
              "    li.append(span(file.name, {fontWeight: 'bold'}));\n",
              "    li.append(span(\n",
              "        `(${file.type || 'n/a'}) - ${file.size} bytes, ` +\n",
              "        `last modified: ${\n",
              "            file.lastModifiedDate ? file.lastModifiedDate.toLocaleDateString() :\n",
              "                                    'n/a'} - `));\n",
              "    const percent = span('0% done');\n",
              "    li.appendChild(percent);\n",
              "\n",
              "    outputElement.appendChild(li);\n",
              "\n",
              "    const fileDataPromise = new Promise((resolve) => {\n",
              "      const reader = new FileReader();\n",
              "      reader.onload = (e) => {\n",
              "        resolve(e.target.result);\n",
              "      };\n",
              "      reader.readAsArrayBuffer(file);\n",
              "    });\n",
              "    // Wait for the data to be ready.\n",
              "    let fileData = yield {\n",
              "      promise: fileDataPromise,\n",
              "      response: {\n",
              "        action: 'continue',\n",
              "      }\n",
              "    };\n",
              "\n",
              "    // Use a chunked sending to avoid message size limits. See b/62115660.\n",
              "    let position = 0;\n",
              "    do {\n",
              "      const length = Math.min(fileData.byteLength - position, MAX_PAYLOAD_SIZE);\n",
              "      const chunk = new Uint8Array(fileData, position, length);\n",
              "      position += length;\n",
              "\n",
              "      const base64 = btoa(String.fromCharCode.apply(null, chunk));\n",
              "      yield {\n",
              "        response: {\n",
              "          action: 'append',\n",
              "          file: file.name,\n",
              "          data: base64,\n",
              "        },\n",
              "      };\n",
              "\n",
              "      let percentDone = fileData.byteLength === 0 ?\n",
              "          100 :\n",
              "          Math.round((position / fileData.byteLength) * 100);\n",
              "      percent.textContent = `${percentDone}% done`;\n",
              "\n",
              "    } while (position < fileData.byteLength);\n",
              "  }\n",
              "\n",
              "  // All done.\n",
              "  yield {\n",
              "    response: {\n",
              "      action: 'complete',\n",
              "    }\n",
              "  };\n",
              "}\n",
              "\n",
              "scope.google = scope.google || {};\n",
              "scope.google.colab = scope.google.colab || {};\n",
              "scope.google.colab._files = {\n",
              "  _uploadFiles,\n",
              "  _uploadFilesContinue,\n",
              "};\n",
              "})(self);\n",
              "</script> "
            ]
          },
          "metadata": {}
        },
        {
          "output_type": "stream",
          "name": "stdout",
          "text": [
            "Saving Supplies.csv to Supplies.csv\n"
          ]
        }
      ],
      "source": [
        "#Blue Team 8\n",
        "# Import necessary libraries\n",
        "import polars as pl\n",
        "from datetime import datetime, timedelta\n",
        "import matplotlib.pyplot as plt\n",
        "\n",
        "from google.colab import files\n",
        "uploaded = files.upload()\n",
        "uploaded = files.upload()\n",
        "uploaded = files.upload()\n",
        "uploaded = files.upload()\n",
        "uploaded = files.upload()\n",
        "uploaded = files.upload()\n",
        "\n",
        "# Set up plotting style\n",
        "plt.style.use('seaborn-v0_8-darkgrid')"
      ]
    },
    {
      "cell_type": "code",
      "execution_count": 3,
      "metadata": {
        "colab": {
          "base_uri": "https://localhost:8080/"
        },
        "id": "v_QUWJfcAFPX",
        "outputId": "8d3187f6-40e6-42e2-8f2d-305429667597"
      },
      "outputs": [
        {
          "output_type": "stream",
          "name": "stdout",
          "text": [
            "Dataset shapes:\n",
            "Customers: (932, 2)\n",
            "Orders: (63148, 7)\n",
            "Items: (90184, 3)\n",
            "Products: (10, 5)\n",
            "Stores: (6, 4)\n",
            "Supplies: (65, 5)\n"
          ]
        }
      ],
      "source": [
        "# Load all datasets\n",
        "customers = pl.read_csv('Customers.csv')\n",
        "orders = pl.read_csv('Orders.csv')\n",
        "items = pl.read_csv('Items.csv')\n",
        "products = pl.read_csv('Products.csv')\n",
        "stores = pl.read_csv('Stores.csv')\n",
        "supplies = pl.read_csv('Supplies.csv')\n",
        "\n",
        "# Display basic information about each dataset\n",
        "print(\"Dataset shapes:\")\n",
        "print(f\"Customers: {customers.shape}\")\n",
        "print(f\"Orders: {orders.shape}\")\n",
        "print(f\"Items: {items.shape}\")\n",
        "print(f\"Products: {products.shape}\")\n",
        "print(f\"Stores: {stores.shape}\")\n",
        "print(f\"Supplies: {supplies.shape}\")"
      ]
    },
    {
      "cell_type": "markdown",
      "metadata": {
        "id": "-5XXcr5dAFPY"
      },
      "source": [
        "## Question 1: Revenue Performance Analysis\n",
        "\n",
        "The CFO wants to understand the company's financial performance across different dimensions. Analyze:\n",
        "- What is the total revenue generated by Jaffle Shop? (Store result in variable: `total_revenue`)\n",
        "- How does revenue vary by store location? (Store result in variable: `revenue_by_store`)\n",
        "- What are the monthly revenue trends? (Store result in variable: `monthly_revenue_trends`)\n",
        "- Which day of the week generates the most revenue? (Store result in variable: `revenue_by_day_of_week`)\n",
        "- Include at least one chart for one of these questions"
      ]
    },
    {
      "cell_type": "code",
      "execution_count": 5,
      "metadata": {
        "colab": {
          "base_uri": "https://localhost:8080/",
          "height": 129
        },
        "id": "tstFGCDRAFPY",
        "outputId": "5f6e7bed-f121-4f4f-8696-4c5b9c70d651"
      },
      "outputs": [
        {
          "output_type": "execute_result",
          "data": {
            "text/plain": [
              "shape: (1, 1)\n",
              "┌───────────────┐\n",
              "│ total_revenue │\n",
              "│ ---           │\n",
              "│ i64           │\n",
              "╞═══════════════╡\n",
              "│ 66038193      │\n",
              "└───────────────┘"
            ],
            "text/html": [
              "<div><style>\n",
              ".dataframe > thead > tr,\n",
              ".dataframe > tbody > tr {\n",
              "  text-align: right;\n",
              "  white-space: pre-wrap;\n",
              "}\n",
              "</style>\n",
              "<small>shape: (1, 1)</small><table border=\"1\" class=\"dataframe\"><thead><tr><th>total_revenue</th></tr><tr><td>i64</td></tr></thead><tbody><tr><td>66038193</td></tr></tbody></table></div>"
            ]
          },
          "metadata": {},
          "execution_count": 5
        }
      ],
      "source": [
        "# Q1.1: Calculate total revenue\n",
        "# Your code here\n",
        "total_revenue = orders.select(pl.col(\"order_total\").sum().alias(\"total_revenue\"))\n",
        "total_revenue"
      ]
    },
    {
      "cell_type": "code",
      "execution_count": 7,
      "metadata": {
        "colab": {
          "base_uri": "https://localhost:8080/",
          "height": 160
        },
        "id": "yLUlC231AFPY",
        "outputId": "a262184a-0d02-4e2c-f6b9-8224bff9a94c"
      },
      "outputs": [
        {
          "output_type": "execute_result",
          "data": {
            "text/plain": [
              "shape: (2, 2)\n",
              "┌──────────────┬──────────┐\n",
              "│ name         ┆ revenue  │\n",
              "│ ---          ┆ ---      │\n",
              "│ str          ┆ i64      │\n",
              "╞══════════════╪══════════╡\n",
              "│ Philadelphia ┆ 43215565 │\n",
              "│ Brooklyn     ┆ 22822628 │\n",
              "└──────────────┴──────────┘"
            ],
            "text/html": [
              "<div><style>\n",
              ".dataframe > thead > tr,\n",
              ".dataframe > tbody > tr {\n",
              "  text-align: right;\n",
              "  white-space: pre-wrap;\n",
              "}\n",
              "</style>\n",
              "<small>shape: (2, 2)</small><table border=\"1\" class=\"dataframe\"><thead><tr><th>name</th><th>revenue</th></tr><tr><td>str</td><td>i64</td></tr></thead><tbody><tr><td>&quot;Philadelphia&quot;</td><td>43215565</td></tr><tr><td>&quot;Brooklyn&quot;</td><td>22822628</td></tr></tbody></table></div>"
            ]
          },
          "metadata": {},
          "execution_count": 7
        }
      ],
      "source": [
        "# Q1.2: Revenue by store location\n",
        "# Your code here\n",
        "revenue_by_store = (\n",
        "    orders.join(stores, left_on=\"store_id\", right_on=\"id\")\n",
        "        .group_by(\"name\")  # Group by store name\n",
        "        .agg(pl.col(\"order_total\").sum().alias(\"revenue\"))\n",
        "        .sort(\"revenue\", descending=True)\n",
        ")\n",
        "revenue_by_store"
      ]
    },
    {
      "cell_type": "code",
      "execution_count": 9,
      "metadata": {
        "colab": {
          "base_uri": "https://localhost:8080/",
          "height": 443
        },
        "id": "9-fK44hLAFPY",
        "outputId": "63db810d-fd9a-4f61-c376-bd473f4bdddb"
      },
      "outputs": [
        {
          "output_type": "execute_result",
          "data": {
            "text/plain": [
              "shape: (12, 2)\n",
              "┌────────────┬─────────┐\n",
              "│ year_month ┆ revenue │\n",
              "│ ---        ┆ ---     │\n",
              "│ str        ┆ i64     │\n",
              "╞════════════╪═════════╡\n",
              "│ 2016-09    ┆ 1644922 │\n",
              "│ 2016-10    ┆ 1956651 │\n",
              "│ 2016-11    ┆ 2552662 │\n",
              "│ 2016-12    ┆ 3307337 │\n",
              "│ 2017-01    ┆ 3821291 │\n",
              "│ …          ┆ …       │\n",
              "│ 2017-04    ┆ 7392014 │\n",
              "│ 2017-05    ┆ 8469909 │\n",
              "│ 2017-06    ┆ 8617148 │\n",
              "│ 2017-07    ┆ 8585320 │\n",
              "│ 2017-08    ┆ 9332296 │\n",
              "└────────────┴─────────┘"
            ],
            "text/html": [
              "<div><style>\n",
              ".dataframe > thead > tr,\n",
              ".dataframe > tbody > tr {\n",
              "  text-align: right;\n",
              "  white-space: pre-wrap;\n",
              "}\n",
              "</style>\n",
              "<small>shape: (12, 2)</small><table border=\"1\" class=\"dataframe\"><thead><tr><th>year_month</th><th>revenue</th></tr><tr><td>str</td><td>i64</td></tr></thead><tbody><tr><td>&quot;2016-09&quot;</td><td>1644922</td></tr><tr><td>&quot;2016-10&quot;</td><td>1956651</td></tr><tr><td>&quot;2016-11&quot;</td><td>2552662</td></tr><tr><td>&quot;2016-12&quot;</td><td>3307337</td></tr><tr><td>&quot;2017-01&quot;</td><td>3821291</td></tr><tr><td>&hellip;</td><td>&hellip;</td></tr><tr><td>&quot;2017-04&quot;</td><td>7392014</td></tr><tr><td>&quot;2017-05&quot;</td><td>8469909</td></tr><tr><td>&quot;2017-06&quot;</td><td>8617148</td></tr><tr><td>&quot;2017-07&quot;</td><td>8585320</td></tr><tr><td>&quot;2017-08&quot;</td><td>9332296</td></tr></tbody></table></div>"
            ]
          },
          "metadata": {},
          "execution_count": 9
        }
      ],
      "source": [
        "# Q1.3: Monthly revenue trends\n",
        "# Your code here\n",
        "monthly_revenue_trends = (\n",
        "    orders.with_columns(\n",
        "        pl.col(\"ordered_at\").str.strptime(pl.Datetime, \"%Y-%m-%dT%H:%M:%S\").cast(pl.Date).alias(\"order_date\")\n",
        "    )\n",
        "    .with_columns(\n",
        "        pl.col(\"order_date\").dt.strftime(\"%Y-%m\").alias(\"year_month\")\n",
        "    )\n",
        "    .group_by(\"year_month\")\n",
        "    .agg(pl.col(\"order_total\").sum().alias(\"revenue\"))\n",
        "    .sort(\"year_month\")\n",
        ")\n",
        "monthly_revenue_trends"
      ]
    },
    {
      "cell_type": "code",
      "execution_count": 13,
      "metadata": {
        "colab": {
          "base_uri": "https://localhost:8080/",
          "height": 317
        },
        "id": "ndKca0NvAFPY",
        "outputId": "dd2a3ac7-fcc3-46d2-b9f4-7000ea8398ae"
      },
      "outputs": [
        {
          "output_type": "execute_result",
          "data": {
            "text/plain": [
              "shape: (7, 2)\n",
              "┌──────────────┬──────────┐\n",
              "│ weekday_name ┆ revenue  │\n",
              "│ ---          ┆ ---      │\n",
              "│ str          ┆ i64      │\n",
              "╞══════════════╪══════════╡\n",
              "│ Monday       ┆ 10611971 │\n",
              "│ Tuesday      ┆ 10814455 │\n",
              "│ Wednesday    ┆ 10834569 │\n",
              "│ Thursday     ┆ 10829195 │\n",
              "│ Friday       ┆ 10758715 │\n",
              "│ Saturday     ┆ 5981489  │\n",
              "│ Sunday       ┆ 6207799  │\n",
              "└──────────────┴──────────┘"
            ],
            "text/html": [
              "<div><style>\n",
              ".dataframe > thead > tr,\n",
              ".dataframe > tbody > tr {\n",
              "  text-align: right;\n",
              "  white-space: pre-wrap;\n",
              "}\n",
              "</style>\n",
              "<small>shape: (7, 2)</small><table border=\"1\" class=\"dataframe\"><thead><tr><th>weekday_name</th><th>revenue</th></tr><tr><td>str</td><td>i64</td></tr></thead><tbody><tr><td>&quot;Monday&quot;</td><td>10611971</td></tr><tr><td>&quot;Tuesday&quot;</td><td>10814455</td></tr><tr><td>&quot;Wednesday&quot;</td><td>10834569</td></tr><tr><td>&quot;Thursday&quot;</td><td>10829195</td></tr><tr><td>&quot;Friday&quot;</td><td>10758715</td></tr><tr><td>&quot;Saturday&quot;</td><td>5981489</td></tr><tr><td>&quot;Sunday&quot;</td><td>6207799</td></tr></tbody></table></div>"
            ]
          },
          "metadata": {},
          "execution_count": 13
        }
      ],
      "source": [
        "# Q1.4: Revenue by day of week\n",
        "# Your code here\n",
        "revenue_by_day_of_week = (\n",
        "    orders.with_columns(\n",
        "        pl.col(\"ordered_at\").str.strptime(pl.Datetime, \"%Y-%m-%dT%H:%M:%S\").cast(pl.Date).alias(\"order_date\")\n",
        "    )\n",
        "    .with_columns(\n",
        "        pl.col(\"order_date\").dt.weekday().alias(\"weekday_num\"),\n",
        "        pl.col(\"order_date\").dt.strftime(\"%A\").alias(\"weekday_name\")\n",
        "    )\n",
        "    .group_by([\"weekday_num\", \"weekday_name\"])\n",
        "    .agg(pl.col(\"order_total\").sum().alias(\"revenue\"))\n",
        "    .sort(\"weekday_num\")  # Monday=1 ... Sunday=7\n",
        "    .select([\"weekday_name\", \"revenue\"])\n",
        ")\n",
        "revenue_by_day_of_week\n",
        "\n",
        "\n",
        "\n"
      ]
    },
    {
      "cell_type": "code",
      "source": [
        "fig, ax = plt.subplots(figsize=(8, 4))\n",
        "x = monthly_revenue_trends.get_column(\"year_month\").to_list()\n",
        "y = monthly_revenue_trends.get_column(\"revenue\").to_list()\n",
        "ax.plot(x, y, marker=\"o\")\n",
        "ax.set_title(\"Monthly Revenue Trends\")\n",
        "ax.set_xlabel(\"Year-Month\")\n",
        "ax.set_ylabel(\"Revenue\")\n",
        "ax.tick_params(axis='x', rotation=45)\n",
        "plt.tight_layout()\n",
        "plt.show()"
      ],
      "metadata": {
        "colab": {
          "base_uri": "https://localhost:8080/",
          "height": 407
        },
        "id": "DHsgW1B5CeGz",
        "outputId": "1d710e11-9134-4606-bfba-60c2e95708c7"
      },
      "execution_count": 14,
      "outputs": [
        {
          "output_type": "display_data",
          "data": {
            "text/plain": [
              "<Figure size 800x400 with 1 Axes>"
            ],
            "image/png": "[encoded data removed]"
          },
          "metadata": {}
        }
      ]
    },
    {
      "cell_type": "markdown",
      "metadata": {
        "id": "zN_2ALUBAFPZ"
      },
      "source": [
        "## Question 2: Product Performance\n",
        "\n",
        "The Product Manager needs insights about the menu items:\n",
        "- What is the revenue contribution of each product category (jaffles vs beverages)? (Store result in variable: `revenue_by_category`)\n",
        "- What is the average price of products by type (jaffles vs beverages)?\n",
        "- Include at least one chart to answer one of the above questions."
      ]
    },
    {
      "cell_type": "code",
      "execution_count": 16,
      "metadata": {
        "colab": {
          "base_uri": "https://localhost:8080/",
          "height": 160
        },
        "id": "CR9oTiJSAFPZ",
        "outputId": "f03ac917-0f94-49a1-acde-ed2adb34bbf8"
      },
      "outputs": [
        {
          "output_type": "execute_result",
          "data": {
            "text/plain": [
              "shape: (2, 2)\n",
              "┌──────────┬───────────────┐\n",
              "│ type     ┆ total_revenue │\n",
              "│ ---      ┆ ---           │\n",
              "│ str      ┆ i64           │\n",
              "╞══════════╪═══════════════╡\n",
              "│ beverage ┆ 39836200      │\n",
              "│ jaffle   ┆ 22880900      │\n",
              "└──────────┴───────────────┘"
            ],
            "text/html": [
              "<div><style>\n",
              ".dataframe > thead > tr,\n",
              ".dataframe > tbody > tr {\n",
              "  text-align: right;\n",
              "  white-space: pre-wrap;\n",
              "}\n",
              "</style>\n",
              "<small>shape: (2, 2)</small><table border=\"1\" class=\"dataframe\"><thead><tr><th>type</th><th>total_revenue</th></tr><tr><td>str</td><td>i64</td></tr></thead><tbody><tr><td>&quot;beverage&quot;</td><td>39836200</td></tr><tr><td>&quot;jaffle&quot;</td><td>22880900</td></tr></tbody></table></div>"
            ]
          },
          "metadata": {},
          "execution_count": 16
        }
      ],
      "source": [
        "# Q2.1: Revenue by product category\n",
        "# Your code here\n",
        "\n",
        "# Join items with products to get product details including price\n",
        "items_with_details = items.join(products, on=\"sku\", how=\"left\")\n",
        "\n",
        "# Calculate the revenue for each item (assuming quantity of 1 per row in items)\n",
        "items_with_details = items_with_details.with_columns(\n",
        "    (pl.col(\"price\") * 1).alias(\"revenue\") # Assuming each row in items is a single quantity\n",
        ")\n",
        "\n",
        "\n",
        "# Q2.1 Revenue by product category\n",
        "# ----------------------------\n",
        "revenue_by_category = (\n",
        "    items_with_details.group_by(\"type\") # Group by product type (category)\n",
        "                  .agg(pl.col(\"revenue\").sum().alias(\"total_revenue\"))\n",
        "                  .sort(\"total_revenue\", descending=True)\n",
        ")\n",
        "revenue_by_category"
      ]
    },
    {
      "cell_type": "code",
      "execution_count": 18,
      "metadata": {
        "colab": {
          "base_uri": "https://localhost:8080/",
          "height": 160
        },
        "id": "FbQtEUrvAFPZ",
        "outputId": "e81d0a6b-2aca-4191-a228-73988a90a010"
      },
      "outputs": [
        {
          "output_type": "execute_result",
          "data": {
            "text/plain": [
              "shape: (2, 2)\n",
              "┌──────────┬─────────────┐\n",
              "│ type     ┆ avg_price   │\n",
              "│ ---      ┆ ---         │\n",
              "│ str      ┆ f64         │\n",
              "╞══════════╪═════════════╡\n",
              "│ jaffle   ┆ 1199.145747 │\n",
              "│ beverage ┆ 560.260467  │\n",
              "└──────────┴─────────────┘"
            ],
            "text/html": [
              "<div><style>\n",
              ".dataframe > thead > tr,\n",
              ".dataframe > tbody > tr {\n",
              "  text-align: right;\n",
              "  white-space: pre-wrap;\n",
              "}\n",
              "</style>\n",
              "<small>shape: (2, 2)</small><table border=\"1\" class=\"dataframe\"><thead><tr><th>type</th><th>avg_price</th></tr><tr><td>str</td><td>f64</td></tr></thead><tbody><tr><td>&quot;jaffle&quot;</td><td>1199.145747</td></tr><tr><td>&quot;beverage&quot;</td><td>560.260467</td></tr></tbody></table></div>"
            ]
          },
          "metadata": {},
          "execution_count": 18
        }
      ],
      "source": [
        "# Q2.2 Average price of products by type\n",
        "# Your code here\n",
        "avg_price_by_type = (\n",
        "    items_with_details.group_by(\"type\")\n",
        "                  .agg(pl.col(\"price\").mean().alias(\"avg_price\"))\n",
        ")\n",
        "avg_price_by_type"
      ]
    },
    {
      "cell_type": "code",
      "source": [
        "fig, ax = plt.subplots(figsize=(6, 4))\n",
        "x = revenue_by_category.get_column(\"type\").to_list()\n",
        "y = revenue_by_category.get_column(\"total_revenue\").to_list()\n",
        "\n",
        "ax.bar(x, y)\n",
        "ax.set_title(\"Revenue Contribution by Category\")\n",
        "ax.set_xlabel(\"Category\")\n",
        "ax.set_ylabel(\"Revenue\")\n",
        "plt.tight_layout()\n",
        "plt.show()"
      ],
      "metadata": {
        "colab": {
          "base_uri": "https://localhost:8080/",
          "height": 407
        },
        "id": "UvJ0m2uMCzEB",
        "outputId": "ee073c57-aa8a-4d25-dbcc-f137f94b208b"
      },
      "execution_count": 20,
      "outputs": [
        {
          "output_type": "display_data",
          "data": {
            "text/plain": [
              "<Figure size 600x400 with 1 Axes>"
            ],
            "image/png": "[encoded data removed]"
          },
          "metadata": {}
        }
      ]
    },
    {
      "cell_type": "markdown",
      "metadata": {
        "id": "_HK6VGXGAFPZ"
      },
      "source": [
        "## Question 3: Store Expansion Strategy\n",
        "\n",
        "The Operations Director is planning expansion strategies:\n",
        "- Which stores have the highest revenue per day since opening? (Store result in variable: `revenue_per_day_by_store`)\n",
        "- What is the relationship between local tax rates and store performance? (Store result in variable: `tax_rate_performance`)\n",
        "- Include at least one chart to answer one of the above questions."
      ]
    },
    {
      "cell_type": "code",
      "execution_count": 23,
      "metadata": {
        "colab": {
          "base_uri": "https://localhost:8080/",
          "height": 160
        },
        "id": "qreyxsmDAFPZ",
        "outputId": "55b419d8-6f1e-4e5c-b8ab-c3619c2cb83d"
      },
      "outputs": [
        {
          "output_type": "execute_result",
          "data": {
            "text/plain": [
              "shape: (2, 4)\n",
              "┌──────────────┬───────────────┬─────────────┬─────────────────┐\n",
              "│ name         ┆ total_revenue ┆ days_active ┆ revenue_per_day │\n",
              "│ ---          ┆ ---           ┆ ---         ┆ ---             │\n",
              "│ str          ┆ i64           ┆ i64         ┆ f64             │\n",
              "╞══════════════╪═══════════════╪═════════════╪═════════════════╡\n",
              "│ Brooklyn     ┆ 22822628      ┆ 14860800001 ┆ 0.001536        │\n",
              "│ Philadelphia ┆ 43215565      ┆ 31449600001 ┆ 0.001374        │\n",
              "└──────────────┴───────────────┴─────────────┴─────────────────┘"
            ],
            "text/html": [
              "<div><style>\n",
              ".dataframe > thead > tr,\n",
              ".dataframe > tbody > tr {\n",
              "  text-align: right;\n",
              "  white-space: pre-wrap;\n",
              "}\n",
              "</style>\n",
              "<small>shape: (2, 4)</small><table border=\"1\" class=\"dataframe\"><thead><tr><th>name</th><th>total_revenue</th><th>days_active</th><th>revenue_per_day</th></tr><tr><td>str</td><td>i64</td><td>i64</td><td>f64</td></tr></thead><tbody><tr><td>&quot;Brooklyn&quot;</td><td>22822628</td><td>14860800001</td><td>0.001536</td></tr><tr><td>&quot;Philadelphia&quot;</td><td>43215565</td><td>31449600001</td><td>0.001374</td></tr></tbody></table></div>"
            ]
          },
          "metadata": {},
          "execution_count": 23
        }
      ],
      "source": [
        "# Q3.1: Revenue per day since opening by store\n",
        "# Your code here\n",
        "\n",
        "# Define constants for clarity\n",
        "STORE_ID = \"store_id\"\n",
        "OPEN_DATE = \"opened_at\"\n",
        "TAX_RATE = \"tax_rate\"\n",
        "store_label = \"name\" # Assuming the store name is used as a label\n",
        "\n",
        "# Join orders with stores\n",
        "orders_with_stores = orders.join(stores, left_on=STORE_ID, right_on=\"id\")\n",
        "\n",
        "# Convert date columns to datetime objects\n",
        "orders_with_stores = orders_with_stores.with_columns([\n",
        "    pl.col(\"ordered_at\").str.strptime(pl.Datetime, \"%Y-%m-%dT%H:%M:%S\").cast(pl.Date).alias(\"order_date\"),\n",
        "    pl.col(OPEN_DATE).str.strptime(pl.Datetime, \"%Y-%m-%dT%H:%M:%S\").cast(pl.Date).alias(OPEN_DATE)\n",
        "])\n",
        "\n",
        "\n",
        "# Aggregate by store\n",
        "agg_by_store = (\n",
        "    orders_with_stores.group_by([store_label, STORE_ID, OPEN_DATE, TAX_RATE])\n",
        "        .agg([\n",
        "            pl.col(\"order_total\").sum().alias(\"total_revenue\"),\n",
        "            pl.col(\"order_date\").min().alias(\"first_sale_date\"),\n",
        "            pl.col(\"order_date\").max().alias(\"last_sale_date\"),\n",
        "        ])\n",
        "        .with_columns([\n",
        "            # Days active = from max(open_date, first_sale_date) to last_sale_date (inclusive)\n",
        "            pl.when(pl.col(OPEN_DATE) > pl.col(\"first_sale_date\"))\n",
        "              .then(pl.col(OPEN_DATE))\n",
        "              .otherwise(pl.col(\"first_sale_date\"))\n",
        "              .alias(\"active_start\"),\n",
        "        ])\n",
        "        .with_columns(\n",
        "            (pl.col(\"last_sale_date\") - pl.col(\"active_start\")).cast(pl.Int64).alias(\"days_active_raw\")\n",
        "        )\n",
        "        .with_columns(\n",
        "            pl.when(pl.col(\"days_active_raw\") < 0).then(0).otherwise(pl.col(\"days_active_raw\")).alias(\"days_active_raw\")\n",
        "        )\n",
        "        .with_columns(\n",
        "            (pl.col(\"days_active_raw\") + 1).alias(\"days_active\")   # inclusive\n",
        "        )\n",
        "        .with_columns(\n",
        "            (pl.col(\"total_revenue\") / pl.when(pl.col(\"days_active\") > 0).then(pl.col(\"days_active\")).otherwise(1))\n",
        "            .alias(\"revenue_per_day\")\n",
        "        )\n",
        "        .sort(\"revenue_per_day\", descending=True)\n",
        ")\n",
        "\n",
        "revenue_per_day_by_store = agg_by_store.select([store_label, \"total_revenue\", \"days_active\", \"revenue_per_day\"])\n",
        "revenue_per_day_by_store"
      ]
    },
    {
      "cell_type": "code",
      "execution_count": 25,
      "metadata": {
        "colab": {
          "base_uri": "https://localhost:8080/",
          "height": 160
        },
        "id": "wlO68HGnAFPZ",
        "outputId": "a9693cb1-c488-4640-b522-d09d9b353841"
      },
      "outputs": [
        {
          "output_type": "execute_result",
          "data": {
            "text/plain": [
              "shape: (2, 3)\n",
              "┌──────────────┬──────────┬─────────────────┐\n",
              "│ name         ┆ tax_rate ┆ revenue_per_day │\n",
              "│ ---          ┆ ---      ┆ ---             │\n",
              "│ str          ┆ f64      ┆ f64             │\n",
              "╞══════════════╪══════════╪═════════════════╡\n",
              "│ Brooklyn     ┆ 0.04     ┆ 0.001536        │\n",
              "│ Philadelphia ┆ 0.06     ┆ 0.001374        │\n",
              "└──────────────┴──────────┴─────────────────┘"
            ],
            "text/html": [
              "<div><style>\n",
              ".dataframe > thead > tr,\n",
              ".dataframe > tbody > tr {\n",
              "  text-align: right;\n",
              "  white-space: pre-wrap;\n",
              "}\n",
              "</style>\n",
              "<small>shape: (2, 3)</small><table border=\"1\" class=\"dataframe\"><thead><tr><th>name</th><th>tax_rate</th><th>revenue_per_day</th></tr><tr><td>str</td><td>f64</td><td>f64</td></tr></thead><tbody><tr><td>&quot;Brooklyn&quot;</td><td>0.04</td><td>0.001536</td></tr><tr><td>&quot;Philadelphia&quot;</td><td>0.06</td><td>0.001374</td></tr></tbody></table></div>"
            ]
          },
          "metadata": {},
          "execution_count": 25
        }
      ],
      "source": [
        "# Q3.2: Tax rates vs store performance\n",
        "# Your code here\n",
        "tax_rate_performance = agg_by_store.select([\"name\", TAX_RATE, \"revenue_per_day\"]).rename({TAX_RATE: \"tax_rate\"})\n",
        "tax_rate_performance"
      ]
    },
    {
      "cell_type": "code",
      "source": [
        "top_n = min(10, revenue_per_day_by_store.height)\n",
        "plot_df = revenue_per_day_by_store.head(top_n)\n",
        "\n",
        "fig, ax = plt.subplots(figsize=(9, 4))\n",
        "ax.bar(plot_df.get_column(\"name\").to_list(),\n",
        "       plot_df.get_column(\"revenue_per_day\").to_list())\n",
        "ax.set_title(\"Top Stores by Revenue per Day (since opening)\")\n",
        "ax.set_xlabel(\"Store\")\n",
        "ax.set_ylabel(\"Revenue per Day\")\n",
        "ax.tick_params(axis='x', rotation=45)\n",
        "plt.tight_layout()\n",
        "plt.show()"
      ],
      "metadata": {
        "colab": {
          "base_uri": "https://localhost:8080/",
          "height": 407
        },
        "id": "I65arlscDw8b",
        "outputId": "b14c5fc4-b1e1-4185-ef76-bef46d99c354"
      },
      "execution_count": 27,
      "outputs": [
        {
          "output_type": "display_data",
          "data": {
            "text/plain": [
              "<Figure size 900x400 with 1 Axes>"
            ],
            "image/png": "[encoded data removed]"
          },
          "metadata": {}
        }
      ]
    },
    {
      "cell_type": "markdown",
      "metadata": {
        "id": "v84XjFNPAFPa"
      },
      "source": [
        "## Question 4: Customer Behavior Analysis\n",
        "\n",
        "The Marketing Manager wants to understand customer patterns:\n",
        "- What is the distribution of order values? (Store result in variable: `order_value_distribution`)\n",
        "- How many customers are repeat customers? (Store result in variable: `repeat_customer_analysis`)\n",
        "- Which customers contribute the most to revenue? (Store result in variable: `top_revenue_customers`)"
      ]
    },
    {
      "cell_type": "code",
      "execution_count": 30,
      "metadata": {
        "colab": {
          "base_uri": "https://localhost:8080/",
          "height": 443
        },
        "id": "nTdBTL9BAFPa",
        "outputId": "2a142a55-925c-4b45-9377-ae928bfd35f2"
      },
      "outputs": [
        {
          "output_type": "execute_result",
          "data": {
            "text/plain": [
              "shape: (62_642, 2)\n",
              "┌─────────────────────────────────┬───────────────────┐\n",
              "│ order_id                        ┆ total_order_value │\n",
              "│ ---                             ┆ ---               │\n",
              "│ str                             ┆ i64               │\n",
              "╞═════════════════════════════════╪═══════════════════╡\n",
              "│ 9cba1181-1c60-4519-99c1-c087f3… ┆ 400               │\n",
              "│ 6a9a4c2f-67df-4fa4-b081-cbd12d… ┆ 700               │\n",
              "│ 62599586-8ae0-4d2d-af7b-0f6635… ┆ 600               │\n",
              "│ c36bfcc8-5463-4ccf-a469-b512e9… ┆ 400               │\n",
              "│ 722416b8-47de-4b62-b2fd-776a0c… ┆ 1100              │\n",
              "│ …                               ┆ …                 │\n",
              "│ 1b72103b-9c5b-4351-a90e-9aa2f8… ┆ 400               │\n",
              "│ 5e6ca076-c83f-471c-9743-3e6ba2… ┆ 400               │\n",
              "│ eaa260aa-b2f9-4808-8924-9f62e7… ┆ 600               │\n",
              "│ 45e60346-1a7f-4aa0-aa88-d2aaee… ┆ 1700              │\n",
              "│ 6f8e9b0d-1b28-469a-bfbe-071de0… ┆ 700               │\n",
              "└─────────────────────────────────┴───────────────────┘"
            ],
            "text/html": [
              "<div><style>\n",
              ".dataframe > thead > tr,\n",
              ".dataframe > tbody > tr {\n",
              "  text-align: right;\n",
              "  white-space: pre-wrap;\n",
              "}\n",
              "</style>\n",
              "<small>shape: (62_642, 2)</small><table border=\"1\" class=\"dataframe\"><thead><tr><th>order_id</th><th>total_order_value</th></tr><tr><td>str</td><td>i64</td></tr></thead><tbody><tr><td>&quot;9cba1181-1c60-4519-99c1-c087f3…</td><td>400</td></tr><tr><td>&quot;6a9a4c2f-67df-4fa4-b081-cbd12d…</td><td>700</td></tr><tr><td>&quot;62599586-8ae0-4d2d-af7b-0f6635…</td><td>600</td></tr><tr><td>&quot;c36bfcc8-5463-4ccf-a469-b512e9…</td><td>400</td></tr><tr><td>&quot;722416b8-47de-4b62-b2fd-776a0c…</td><td>1100</td></tr><tr><td>&hellip;</td><td>&hellip;</td></tr><tr><td>&quot;1b72103b-9c5b-4351-a90e-9aa2f8…</td><td>400</td></tr><tr><td>&quot;5e6ca076-c83f-471c-9743-3e6ba2…</td><td>400</td></tr><tr><td>&quot;eaa260aa-b2f9-4808-8924-9f62e7…</td><td>600</td></tr><tr><td>&quot;45e60346-1a7f-4aa0-aa88-d2aaee…</td><td>1700</td></tr><tr><td>&quot;6f8e9b0d-1b28-469a-bfbe-071de0…</td><td>700</td></tr></tbody></table></div>"
            ]
          },
          "metadata": {},
          "execution_count": 30
        }
      ],
      "source": [
        "# Q4.1: Distribution of order values\n",
        "# Your code here\n",
        "\n",
        "# Join items with products to get price\n",
        "items_with_price = items.join(products, on=\"sku\", how=\"left\")\n",
        "\n",
        "# Calculate the value for each item (assuming quantity of 1 per row in items)\n",
        "items_with_price = items_with_price.with_columns(\n",
        "    (pl.col(\"price\") * 1).alias(\"item_value\")\n",
        ")\n",
        "\n",
        "# Group by order_id and sum the item values to get the total order value\n",
        "order_value_distribution = (\n",
        "    items_with_price.group_by(\"order_id\")\n",
        "    .agg(pl.col(\"item_value\").sum().alias(\"total_order_value\"))\n",
        ")\n",
        "\n",
        "order_value_distribution"
      ]
    },
    {
      "cell_type": "code",
      "source": [
        "plt.hist(order_value_distribution[\"total_order_value\"], bins=30, edgecolor=\"black\")\n",
        "plt.title(\"Distribution of Order Values\")\n",
        "plt.xlabel(\"Order Value ($)\")\n",
        "plt.ylabel(\"Frequency\")\n",
        "plt.show()"
      ],
      "metadata": {
        "colab": {
          "base_uri": "https://localhost:8080/",
          "height": 465
        },
        "id": "iIhB6sBAET21",
        "outputId": "2915ad11-deca-4e30-c7b1-b8fc5f1eed04"
      },
      "execution_count": 32,
      "outputs": [
        {
          "output_type": "display_data",
          "data": {
            "text/plain": [
              "<Figure size 640x480 with 1 Axes>"
            ],
            "image/png": "[encoded data removed]"
          },
          "metadata": {}
        }
      ]
    },
    {
      "cell_type": "code",
      "execution_count": 36,
      "metadata": {
        "colab": {
          "base_uri": "https://localhost:8080/"
        },
        "id": "6oIL6t6RAFPa",
        "outputId": "72ed7699-3ecb-4132-f159-72fbc9832df4"
      },
      "outputs": [
        {
          "output_type": "stream",
          "name": "stdout",
          "text": [
            "Total customers: 930, Repeat customers: 920\n"
          ]
        }
      ],
      "source": [
        "# Q4.2: Repeat customers analysis\n",
        "# Your code here\n",
        "customer_orders = (\n",
        "    orders.group_by(\"customer\")\n",
        "    .agg(pl.count(\"id\").alias(\"order_count\"))\n",
        ")\n",
        "\n",
        "repeat_customer_analysis = customer_orders.filter(pl.col(\"order_count\") > 1)\n",
        "\n",
        "total_customers = customer_orders.height\n",
        "repeat_customers = repeat_customer_analysis.height\n",
        "print(f\"Total customers: {total_customers}, Repeat customers: {repeat_customers}\")"
      ]
    },
    {
      "cell_type": "code",
      "execution_count": 38,
      "metadata": {
        "colab": {
          "base_uri": "https://localhost:8080/",
          "height": 411
        },
        "id": "sjzcv48cAFPa",
        "outputId": "29fe7a9a-4dcc-421e-9af2-2d8e55ba2897"
      },
      "outputs": [
        {
          "output_type": "execute_result",
          "data": {
            "text/plain": [
              "shape: (10, 3)\n",
              "┌─────────────────────────────────┬──────────────────────┬───────────────┐\n",
              "│ customer                        ┆ name                 ┆ total_revenue │\n",
              "│ ---                             ┆ ---                  ┆ ---           │\n",
              "│ str                             ┆ str                  ┆ i64           │\n",
              "╞═════════════════════════════════╪══════════════════════╪═══════════════╡\n",
              "│ ea3ada4c-8ffa-4e73-a51f-27711f… ┆ David Leonard        ┆ 247800        │\n",
              "│ 4fb3b92c-29cc-410f-a898-9784c4… ┆ Jesse Moore          ┆ 244400        │\n",
              "│ 99facd33-7b11-4955-aa0d-ccd118… ┆ Diane Davis          ┆ 243900        │\n",
              "│ 8bbf796d-0862-41c6-b533-38d6c2… ┆ Holly Johnson        ┆ 238400        │\n",
              "│ bc94ad77-6703-48d9-85d9-7908e7… ┆ Gregory Hayes        ┆ 235700        │\n",
              "│ 3ddc958e-73f5-4fe9-804e-d63c8b… ┆ Julie Robinson       ┆ 233500        │\n",
              "│ 0b92fd92-9200-47fe-9b57-9ada88… ┆ Christopher Robinson ┆ 232400        │\n",
              "│ a54f0762-0ac2-4821-bb45-835fd4… ┆ Douglas Burgess      ┆ 230300        │\n",
              "│ 666caf4d-840e-496a-8dd9-6363aa… ┆ Jacob Brown          ┆ 226100        │\n",
              "│ 416b65bf-5e91-4b77-a67c-4726f3… ┆ Jenny Harrell        ┆ 223700        │\n",
              "└─────────────────────────────────┴──────────────────────┴───────────────┘"
            ],
            "text/html": [
              "<div><style>\n",
              ".dataframe > thead > tr,\n",
              ".dataframe > tbody > tr {\n",
              "  text-align: right;\n",
              "  white-space: pre-wrap;\n",
              "}\n",
              "</style>\n",
              "<small>shape: (10, 3)</small><table border=\"1\" class=\"dataframe\"><thead><tr><th>customer</th><th>name</th><th>total_revenue</th></tr><tr><td>str</td><td>str</td><td>i64</td></tr></thead><tbody><tr><td>&quot;ea3ada4c-8ffa-4e73-a51f-27711f…</td><td>&quot;David Leonard&quot;</td><td>247800</td></tr><tr><td>&quot;4fb3b92c-29cc-410f-a898-9784c4…</td><td>&quot;Jesse Moore&quot;</td><td>244400</td></tr><tr><td>&quot;99facd33-7b11-4955-aa0d-ccd118…</td><td>&quot;Diane Davis&quot;</td><td>243900</td></tr><tr><td>&quot;8bbf796d-0862-41c6-b533-38d6c2…</td><td>&quot;Holly Johnson&quot;</td><td>238400</td></tr><tr><td>&quot;bc94ad77-6703-48d9-85d9-7908e7…</td><td>&quot;Gregory Hayes&quot;</td><td>235700</td></tr><tr><td>&quot;3ddc958e-73f5-4fe9-804e-d63c8b…</td><td>&quot;Julie Robinson&quot;</td><td>233500</td></tr><tr><td>&quot;0b92fd92-9200-47fe-9b57-9ada88…</td><td>&quot;Christopher Robinson&quot;</td><td>232400</td></tr><tr><td>&quot;a54f0762-0ac2-4821-bb45-835fd4…</td><td>&quot;Douglas Burgess&quot;</td><td>230300</td></tr><tr><td>&quot;666caf4d-840e-496a-8dd9-6363aa…</td><td>&quot;Jacob Brown&quot;</td><td>226100</td></tr><tr><td>&quot;416b65bf-5e91-4b77-a67c-4726f3…</td><td>&quot;Jenny Harrell&quot;</td><td>223700</td></tr></tbody></table></div>"
            ]
          },
          "metadata": {},
          "execution_count": 38
        }
      ],
      "source": [
        "# Q4.3: Top revenue contributors\n",
        "# Your code here\n",
        "# Join orders, items, and customers\n",
        "customer_revenue = (\n",
        "    orders.join(items, left_on=\"id\", right_on=\"order_id\")\n",
        "    .join(customers, left_on=\"customer\", right_on=\"id\")\n",
        "    .join(products, on=\"sku\") # Join with products to get the price\n",
        "    .with_columns((pl.col(\"price\") * 1).alias(\"revenue\")) # Assuming quantity of 1 per row in items\n",
        "    .group_by([\"customer\", \"name\"]) # Group by customer id and name\n",
        "    .agg(pl.sum(\"revenue\").alias(\"total_revenue\"))\n",
        "    .sort(\"total_revenue\", descending=True)\n",
        ")\n",
        "\n",
        "# Store result\n",
        "top_revenue_customers = customer_revenue.head(10)\n",
        "top_revenue_customers"
      ]
    },
    {
      "cell_type": "code",
      "source": [
        "top_revenue_customers_df = top_revenue_customers.to_pandas()\n",
        "plt.barh(top_revenue_customers_df[\"name\"], top_revenue_customers_df[\"total_revenue\"])\n",
        "plt.title(\"Top 10 Revenue-Contributing Customers\")\n",
        "plt.xlabel(\"Total Revenue ($)\")\n",
        "plt.gca().invert_yaxis()\n",
        "plt.show()"
      ],
      "metadata": {
        "colab": {
          "base_uri": "https://localhost:8080/",
          "height": 465
        },
        "id": "Uai7SNNgEovy",
        "outputId": "6008fd7a-22e8-489c-b919-f8e92b66bde7"
      },
      "execution_count": 40,
      "outputs": [
        {
          "output_type": "display_data",
          "data": {
            "text/plain": [
              "<Figure size 640x480 with 1 Axes>"
            ],
            "image/png": "[encoded data removed]"
          },
          "metadata": {}
        }
      ]
    },
    {
      "cell_type": "markdown",
      "metadata": {
        "id": "epyFCOiJAFPa"
      },
      "source": [
        "## Question 5: Profitability Deep Dive\n",
        "\n",
        "The CEO needs a comprehensive profitability analysis:\n",
        "- Calculate the gross margin for each product (consider supply costs) (Store result in variable: `product_margins`)\n",
        "- Which products have the highest profit margins? (Store result in variable: `highest_margin_products`)\n",
        "- What is the relationship between order size and profitability? (Store result in variable: `order_size_profitability`)\n",
        "- How does profitability vary across different stores? (Store result in variable: `store_profitability`)"
      ]
    },
    {
      "cell_type": "code",
      "execution_count": 42,
      "metadata": {
        "colab": {
          "base_uri": "https://localhost:8080/",
          "height": 411
        },
        "id": "VsUx_4ZbAFPa",
        "outputId": "20678946-c255-4ec2-e2d8-de90b4e43276"
      },
      "outputs": [
        {
          "output_type": "execute_result",
          "data": {
            "text/plain": [
              "shape: (10, 6)\n",
              "┌─────────┬─────────────────────────┬─────────┬─────────┬───────────────┬────────────┐\n",
              "│ sku     ┆ name                    ┆ revenue ┆ cost    ┆ margin_dollar ┆ margin_pct │\n",
              "│ ---     ┆ ---                     ┆ ---     ┆ ---     ┆ ---           ┆ ---        │\n",
              "│ str     ┆ str                     ┆ i64     ┆ i64     ┆ i64           ┆ f64        │\n",
              "╞═════════╪═════════════════════════╪═════════╪═════════╪═══════════════╪════════════╡\n",
              "│ JAF-001 ┆ nutellaphone who dis?   ┆ 4191000 ┆ 461010  ┆ 3729990       ┆ 0.89       │\n",
              "│ BEV-004 ┆ for richer or pourover  ┆ 9951900 ┆ 1165794 ┆ 8786106       ┆ 0.882857   │\n",
              "│ BEV-001 ┆ tangaroo                ┆ 8622600 ┆ 1178422 ┆ 7444178       ┆ 0.863333   │\n",
              "│ BEV-005 ┆ adele-ade               ┆ 5622800 ┆ 885591  ┆ 4737209       ┆ 0.8425     │\n",
              "│ JAF-005 ┆ mel-bun                 ┆ 4588800 ┆ 913936  ┆ 3674864       ┆ 0.800833   │\n",
              "│ JAF-002 ┆ doctor stew             ┆ 4225100 ┆ 964091  ┆ 3261009       ┆ 0.771818   │\n",
              "│ JAF-004 ┆ flame impala            ┆ 5241600 ┆ 1284192 ┆ 3957408       ┆ 0.755      │\n",
              "│ BEV-003 ┆ vanilla ice             ┆ 8459400 ┆ 2171246 ┆ 6288154       ┆ 0.743333   │\n",
              "│ JAF-003 ┆ the krautback           ┆ 4634400 ┆ 1413492 ┆ 3220908       ┆ 0.695      │\n",
              "│ BEV-002 ┆ chai and mighty         ┆ 7179500 ┆ 2512825 ┆ 4666675       ┆ 0.65       │\n",
              "└─────────┴─────────────────────────┴─────────┴─────────┴───────────────┴────────────┘"
            ],
            "text/html": [
              "<div><style>\n",
              ".dataframe > thead > tr,\n",
              ".dataframe > tbody > tr {\n",
              "  text-align: right;\n",
              "  white-space: pre-wrap;\n",
              "}\n",
              "</style>\n",
              "<small>shape: (10, 6)</small><table border=\"1\" class=\"dataframe\"><thead><tr><th>sku</th><th>name</th><th>revenue</th><th>cost</th><th>margin_dollar</th><th>margin_pct</th></tr><tr><td>str</td><td>str</td><td>i64</td><td>i64</td><td>i64</td><td>f64</td></tr></thead><tbody><tr><td>&quot;JAF-001&quot;</td><td>&quot;nutellaphone who dis?&quot;</td><td>4191000</td><td>461010</td><td>3729990</td><td>0.89</td></tr><tr><td>&quot;BEV-004&quot;</td><td>&quot;for richer or pourover &quot;</td><td>9951900</td><td>1165794</td><td>8786106</td><td>0.882857</td></tr><tr><td>&quot;BEV-001&quot;</td><td>&quot;tangaroo&quot;</td><td>8622600</td><td>1178422</td><td>7444178</td><td>0.863333</td></tr><tr><td>&quot;BEV-005&quot;</td><td>&quot;adele-ade&quot;</td><td>5622800</td><td>885591</td><td>4737209</td><td>0.8425</td></tr><tr><td>&quot;JAF-005&quot;</td><td>&quot;mel-bun&quot;</td><td>4588800</td><td>913936</td><td>3674864</td><td>0.800833</td></tr><tr><td>&quot;JAF-002&quot;</td><td>&quot;doctor stew&quot;</td><td>4225100</td><td>964091</td><td>3261009</td><td>0.771818</td></tr><tr><td>&quot;JAF-004&quot;</td><td>&quot;flame impala&quot;</td><td>5241600</td><td>1284192</td><td>3957408</td><td>0.755</td></tr><tr><td>&quot;BEV-003&quot;</td><td>&quot;vanilla ice&quot;</td><td>8459400</td><td>2171246</td><td>6288154</td><td>0.743333</td></tr><tr><td>&quot;JAF-003&quot;</td><td>&quot;the krautback&quot;</td><td>4634400</td><td>1413492</td><td>3220908</td><td>0.695</td></tr><tr><td>&quot;BEV-002&quot;</td><td>&quot;chai and mighty&quot;</td><td>7179500</td><td>2512825</td><td>4666675</td><td>0.65</td></tr></tbody></table></div>"
            ]
          },
          "metadata": {},
          "execution_count": 42
        }
      ],
      "source": [
        "# Q5.1: Calculate gross margin per product\n",
        "# Your code here\n",
        "\n",
        "# Join items with products to get revenue per item\n",
        "items_with_revenue = items.join(products, on=\"sku\", how=\"left\").with_columns(\n",
        "    (pl.col(\"price\") * 1).alias(\"revenue\") # Assuming quantity of 1 per row in items\n",
        ")\n",
        "\n",
        "# Calculate total supply cost per product sku by summing up supply costs for each sku\n",
        "supply_cost_per_product = supplies.group_by(\"sku\").agg(pl.sum(\"cost\").alias(\"total_supply_cost_per_unit\"))\n",
        "\n",
        "# Join items_with_revenue with supply_cost_per_product to get cost per item\n",
        "items_with_cost = items_with_revenue.join(supply_cost_per_product, on=\"sku\", how=\"left\").with_columns(\n",
        "    (pl.col(\"total_supply_cost_per_unit\") * 1).alias(\"cost\") # Assuming quantity of 1 per row in items\n",
        ")\n",
        "\n",
        "# Calculate margin per item\n",
        "items_with_cost = items_with_cost.with_columns(\n",
        "    (pl.col(\"revenue\") - pl.col(\"cost\")).alias(\"margin_dollar\")\n",
        ")\n",
        "\n",
        "# Aggregate by product to get total revenue, cost, and margin\n",
        "product_margins = (\n",
        "    items_with_cost.group_by([\"sku\", \"name\"]) # Group by product sku and name\n",
        "        .agg([\n",
        "            pl.sum(\"revenue\").alias(\"revenue\"),\n",
        "            pl.sum(\"cost\").alias(\"cost\"),\n",
        "            pl.sum(\"margin_dollar\").alias(\"margin_dollar\"),\n",
        "        ])\n",
        "        .with_columns(\n",
        "            (pl.col(\"margin_dollar\") / pl.col(\"revenue\")).alias(\"margin_pct\")\n",
        "        )\n",
        "        .sort([\"margin_pct\", \"margin_dollar\"], descending=[True, True])\n",
        ")\n",
        "product_margins"
      ]
    },
    {
      "cell_type": "code",
      "execution_count": 43,
      "metadata": {
        "colab": {
          "base_uri": "https://localhost:8080/",
          "height": 411
        },
        "id": "lZcT2FyyAFPa",
        "outputId": "3df3954b-8b9c-4892-8532-30a52927fbe1"
      },
      "outputs": [
        {
          "output_type": "execute_result",
          "data": {
            "text/plain": [
              "shape: (10, 6)\n",
              "┌─────────┬─────────────────────────┬─────────┬─────────┬───────────────┬────────────┐\n",
              "│ sku     ┆ name                    ┆ revenue ┆ cost    ┆ margin_dollar ┆ margin_pct │\n",
              "│ ---     ┆ ---                     ┆ ---     ┆ ---     ┆ ---           ┆ ---        │\n",
              "│ str     ┆ str                     ┆ i64     ┆ i64     ┆ i64           ┆ f64        │\n",
              "╞═════════╪═════════════════════════╪═════════╪═════════╪═══════════════╪════════════╡\n",
              "│ JAF-001 ┆ nutellaphone who dis?   ┆ 4191000 ┆ 461010  ┆ 3729990       ┆ 0.89       │\n",
              "│ BEV-004 ┆ for richer or pourover  ┆ 9951900 ┆ 1165794 ┆ 8786106       ┆ 0.882857   │\n",
              "│ BEV-001 ┆ tangaroo                ┆ 8622600 ┆ 1178422 ┆ 7444178       ┆ 0.863333   │\n",
              "│ BEV-005 ┆ adele-ade               ┆ 5622800 ┆ 885591  ┆ 4737209       ┆ 0.8425     │\n",
              "│ JAF-005 ┆ mel-bun                 ┆ 4588800 ┆ 913936  ┆ 3674864       ┆ 0.800833   │\n",
              "│ JAF-002 ┆ doctor stew             ┆ 4225100 ┆ 964091  ┆ 3261009       ┆ 0.771818   │\n",
              "│ JAF-004 ┆ flame impala            ┆ 5241600 ┆ 1284192 ┆ 3957408       ┆ 0.755      │\n",
              "│ BEV-003 ┆ vanilla ice             ┆ 8459400 ┆ 2171246 ┆ 6288154       ┆ 0.743333   │\n",
              "│ JAF-003 ┆ the krautback           ┆ 4634400 ┆ 1413492 ┆ 3220908       ┆ 0.695      │\n",
              "│ BEV-002 ┆ chai and mighty         ┆ 7179500 ┆ 2512825 ┆ 4666675       ┆ 0.65       │\n",
              "└─────────┴─────────────────────────┴─────────┴─────────┴───────────────┴────────────┘"
            ],
            "text/html": [
              "<div><style>\n",
              ".dataframe > thead > tr,\n",
              ".dataframe > tbody > tr {\n",
              "  text-align: right;\n",
              "  white-space: pre-wrap;\n",
              "}\n",
              "</style>\n",
              "<small>shape: (10, 6)</small><table border=\"1\" class=\"dataframe\"><thead><tr><th>sku</th><th>name</th><th>revenue</th><th>cost</th><th>margin_dollar</th><th>margin_pct</th></tr><tr><td>str</td><td>str</td><td>i64</td><td>i64</td><td>i64</td><td>f64</td></tr></thead><tbody><tr><td>&quot;JAF-001&quot;</td><td>&quot;nutellaphone who dis?&quot;</td><td>4191000</td><td>461010</td><td>3729990</td><td>0.89</td></tr><tr><td>&quot;BEV-004&quot;</td><td>&quot;for richer or pourover &quot;</td><td>9951900</td><td>1165794</td><td>8786106</td><td>0.882857</td></tr><tr><td>&quot;BEV-001&quot;</td><td>&quot;tangaroo&quot;</td><td>8622600</td><td>1178422</td><td>7444178</td><td>0.863333</td></tr><tr><td>&quot;BEV-005&quot;</td><td>&quot;adele-ade&quot;</td><td>5622800</td><td>885591</td><td>4737209</td><td>0.8425</td></tr><tr><td>&quot;JAF-005&quot;</td><td>&quot;mel-bun&quot;</td><td>4588800</td><td>913936</td><td>3674864</td><td>0.800833</td></tr><tr><td>&quot;JAF-002&quot;</td><td>&quot;doctor stew&quot;</td><td>4225100</td><td>964091</td><td>3261009</td><td>0.771818</td></tr><tr><td>&quot;JAF-004&quot;</td><td>&quot;flame impala&quot;</td><td>5241600</td><td>1284192</td><td>3957408</td><td>0.755</td></tr><tr><td>&quot;BEV-003&quot;</td><td>&quot;vanilla ice&quot;</td><td>8459400</td><td>2171246</td><td>6288154</td><td>0.743333</td></tr><tr><td>&quot;JAF-003&quot;</td><td>&quot;the krautback&quot;</td><td>4634400</td><td>1413492</td><td>3220908</td><td>0.695</td></tr><tr><td>&quot;BEV-002&quot;</td><td>&quot;chai and mighty&quot;</td><td>7179500</td><td>2512825</td><td>4666675</td><td>0.65</td></tr></tbody></table></div>"
            ]
          },
          "metadata": {},
          "execution_count": 43
        }
      ],
      "source": [
        "# Q5.2: Products with highest profit margins\n",
        "# Your code here\n",
        "highest_margin_products = (\n",
        "    product_margins.filter(pl.col(\"revenue\") > 0)\n",
        "                   .sort([\"margin_pct\", \"margin_dollar\"], descending=[True, True])\n",
        "                   .head(10)\n",
        ")\n",
        "highest_margin_products\n"
      ]
    },
    {
      "cell_type": "code",
      "execution_count": 45,
      "metadata": {
        "colab": {
          "base_uri": "https://localhost:8080/",
          "height": 443
        },
        "id": "FDrmiE_yAFPa",
        "outputId": "d16f51d2-1268-459d-9263-6b2425af8b54"
      },
      "outputs": [
        {
          "output_type": "execute_result",
          "data": {
            "text/plain": [
              "shape: (62_642, 5)\n",
              "┌─────────────────────────────────┬─────────────┬─────────────┬──────────────┬──────────────────┐\n",
              "│ order_id                        ┆ items_count ┆ order_value ┆ order_margin ┆ order_margin_pct │\n",
              "│ ---                             ┆ ---         ┆ ---         ┆ ---          ┆ ---              │\n",
              "│ str                             ┆ u32         ┆ i64         ┆ i64          ┆ f64              │\n",
              "╞═════════════════════════════════╪═════════════╪═════════════╪══════════════╪══════════════════╡\n",
              "│ e6fd5727-3b29-46b9-8150-898d1d… ┆ 1           ┆ 700         ┆ 618          ┆ 0.882857         │\n",
              "│ 17fdfc6c-1109-4ae2-93db-70ff1e… ┆ 1           ┆ 600         ┆ 446          ┆ 0.743333         │\n",
              "│ 450180da-176d-4be1-ad40-59c5ab… ┆ 1           ┆ 500         ┆ 325          ┆ 0.65             │\n",
              "│ d20b8b2a-5c4b-4be4-be36-7f8b08… ┆ 1           ┆ 700         ┆ 618          ┆ 0.882857         │\n",
              "│ 44c47839-27dd-464b-aa10-a4dc72… ┆ 1           ┆ 600         ┆ 446          ┆ 0.743333         │\n",
              "│ …                               ┆ …           ┆ …           ┆ …            ┆ …                │\n",
              "│ f2c49c2b-5189-4574-aaed-360449… ┆ 1           ┆ 600         ┆ 446          ┆ 0.743333         │\n",
              "│ 0fc91957-8fe5-498d-a12d-561596… ┆ 1           ┆ 600         ┆ 518          ┆ 0.863333         │\n",
              "│ e90698c7-fb51-4958-bcb8-15fe89… ┆ 1           ┆ 600         ┆ 446          ┆ 0.743333         │\n",
              "│ 3b6a851d-2ba3-4195-8577-8fc5da… ┆ 1           ┆ 500         ┆ 325          ┆ 0.65             │\n",
              "│ 96d2ab61-b02b-44dd-b756-c6f2ef… ┆ 2           ┆ 1800        ┆ 1280         ┆ 0.711111         │\n",
              "└─────────────────────────────────┴─────────────┴─────────────┴──────────────┴──────────────────┘"
            ],
            "text/html": [
              "<div><style>\n",
              ".dataframe > thead > tr,\n",
              ".dataframe > tbody > tr {\n",
              "  text-align: right;\n",
              "  white-space: pre-wrap;\n",
              "}\n",
              "</style>\n",
              "<small>shape: (62_642, 5)</small><table border=\"1\" class=\"dataframe\"><thead><tr><th>order_id</th><th>items_count</th><th>order_value</th><th>order_margin</th><th>order_margin_pct</th></tr><tr><td>str</td><td>u32</td><td>i64</td><td>i64</td><td>f64</td></tr></thead><tbody><tr><td>&quot;e6fd5727-3b29-46b9-8150-898d1d…</td><td>1</td><td>700</td><td>618</td><td>0.882857</td></tr><tr><td>&quot;17fdfc6c-1109-4ae2-93db-70ff1e…</td><td>1</td><td>600</td><td>446</td><td>0.743333</td></tr><tr><td>&quot;450180da-176d-4be1-ad40-59c5ab…</td><td>1</td><td>500</td><td>325</td><td>0.65</td></tr><tr><td>&quot;d20b8b2a-5c4b-4be4-be36-7f8b08…</td><td>1</td><td>700</td><td>618</td><td>0.882857</td></tr><tr><td>&quot;44c47839-27dd-464b-aa10-a4dc72…</td><td>1</td><td>600</td><td>446</td><td>0.743333</td></tr><tr><td>&hellip;</td><td>&hellip;</td><td>&hellip;</td><td>&hellip;</td><td>&hellip;</td></tr><tr><td>&quot;f2c49c2b-5189-4574-aaed-360449…</td><td>1</td><td>600</td><td>446</td><td>0.743333</td></tr><tr><td>&quot;0fc91957-8fe5-498d-a12d-561596…</td><td>1</td><td>600</td><td>518</td><td>0.863333</td></tr><tr><td>&quot;e90698c7-fb51-4958-bcb8-15fe89…</td><td>1</td><td>600</td><td>446</td><td>0.743333</td></tr><tr><td>&quot;3b6a851d-2ba3-4195-8577-8fc5da…</td><td>1</td><td>500</td><td>325</td><td>0.65</td></tr><tr><td>&quot;96d2ab61-b02b-44dd-b756-c6f2ef…</td><td>2</td><td>1800</td><td>1280</td><td>0.711111</td></tr></tbody></table></div>"
            ]
          },
          "metadata": {},
          "execution_count": 45
        }
      ],
      "source": [
        "# Q5.3: Order size vs profitability\n",
        "# Your code here\n",
        "\n",
        "# Join items with products and supplies to get revenue and cost per item\n",
        "items_with_profit = items.join(products, on=\"sku\", how=\"left\").with_columns(\n",
        "    (pl.col(\"price\") * 1).alias(\"revenue\") # Assuming quantity of 1 per row in items\n",
        ").join(supplies.group_by(\"sku\").agg(pl.sum(\"cost\").alias(\"total_supply_cost_per_unit\")), on=\"sku\", how=\"left\").with_columns(\n",
        "    (pl.col(\"total_supply_cost_per_unit\") * 1).alias(\"cost\") # Assuming quantity of 1 per row in items\n",
        ").with_columns(\n",
        "    (pl.col(\"revenue\") - pl.col(\"cost\")).alias(\"margin_dollar\")\n",
        ")\n",
        "\n",
        "\n",
        "# Group by order_id to calculate order size, revenue, and margin\n",
        "order_size_profitability = (\n",
        "    items_with_profit.group_by(\"order_id\")\n",
        "        .agg([\n",
        "            pl.count(\"id\").alias(\"items_count\"), # Count of items in the order (assuming 1 quantity per row)\n",
        "            pl.sum(\"revenue\").alias(\"order_value\"),\n",
        "            pl.sum(\"margin_dollar\").alias(\"order_margin\"),\n",
        "        ])\n",
        "        .with_columns(\n",
        "            (pl.col(\"order_margin\") / pl.col(\"order_value\")).alias(\"order_margin_pct\")\n",
        "        )\n",
        ")\n",
        "order_size_profitability"
      ]
    },
    {
      "cell_type": "code",
      "execution_count": 47,
      "metadata": {
        "colab": {
          "base_uri": "https://localhost:8080/",
          "height": 443
        },
        "id": "hjmHB_pFAFPb",
        "outputId": "ab6ff61e-31b7-401e-b1f4-52a1b5208cf5"
      },
      "outputs": [
        {
          "output_type": "execute_result",
          "data": {
            "text/plain": [
              "shape: (22, 6)\n",
              "┌────────────────────────┬────────────────────────┬─────────┬─────────┬───────────────┬────────────┐\n",
              "│ store_id               ┆ name                   ┆ revenue ┆ cost    ┆ margin_dollar ┆ margin_pct │\n",
              "│ ---                    ┆ ---                    ┆ ---     ┆ ---     ┆ ---           ┆ ---        │\n",
              "│ str                    ┆ str                    ┆ i64     ┆ i64     ┆ i64           ┆ f64        │\n",
              "╞════════════════════════╪════════════════════════╪═════════╪═════════╪═══════════════╪════════════╡\n",
              "│ a9128331-08d7-41a2-b61 ┆ for richer or pourover ┆ 6436500 ┆ 753990  ┆ 5682510       ┆ 0.882857   │\n",
              "│ 5-21283e…              ┆                        ┆         ┆         ┆               ┆            │\n",
              "│ a9128331-08d7-41a2-b61 ┆ tangaroo               ┆ 5619600 ┆ 768012  ┆ 4851588       ┆ 0.863333   │\n",
              "│ 5-21283e…              ┆                        ┆         ┆         ┆               ┆            │\n",
              "│ a9128331-08d7-41a2-b61 ┆ vanilla ice            ┆ 5421600 ┆ 1391544 ┆ 4030056       ┆ 0.743333   │\n",
              "│ 5-21283e…              ┆                        ┆         ┆         ┆               ┆            │\n",
              "│ a2a24e87-dec8-4f5d-9c9 ┆ for richer or pourover ┆ 3515400 ┆ 411804  ┆ 3103596       ┆ 0.882857   │\n",
              "│ e-0e9849…              ┆                        ┆         ┆         ┆               ┆            │\n",
              "│ a9128331-08d7-41a2-b61 ┆ adele-ade              ┆ 3604000 ┆ 567630  ┆ 3036370       ┆ 0.8425     │\n",
              "│ 5-21283e…              ┆                        ┆         ┆         ┆               ┆            │\n",
              "│ …                      ┆ …                      ┆ …       ┆ …       ┆ …             ┆ …          │\n",
              "│ a2a24e87-dec8-4f5d-9c9 ┆ nutellaphone who dis?  ┆ 1435500 ┆ 157905  ┆ 1277595       ┆ 0.89       │\n",
              "│ e-0e9849…              ┆                        ┆         ┆         ┆               ┆            │\n",
              "│ a2a24e87-dec8-4f5d-9c9 ┆ the krautback          ┆ 1576800 ┆ 480924  ┆ 1095876       ┆ 0.695      │\n",
              "│ e-0e9849…              ┆                        ┆         ┆         ┆               ┆            │\n",
              "│ a2a24e87-dec8-4f5d-9c9 ┆ doctor stew            ┆ 1412400 ┆ 322284  ┆ 1090116       ┆ 0.771818   │\n",
              "│ e-0e9849…              ┆                        ┆         ┆         ┆               ┆            │\n",
              "│ a9128331-08d7-41a2-b61 ┆ null                   ┆ 0       ┆ 0       ┆ 0             ┆ NaN        │\n",
              "│ 5-21283e…              ┆                        ┆         ┆         ┆               ┆            │\n",
              "│ a2a24e87-dec8-4f5d-9c9 ┆ null                   ┆ 0       ┆ 0       ┆ 0             ┆ NaN        │\n",
              "│ e-0e9849…              ┆                        ┆         ┆         ┆               ┆            │\n",
              "└────────────────────────┴────────────────────────┴─────────┴─────────┴───────────────┴────────────┘"
            ],
            "text/html": [
              "<div><style>\n",
              ".dataframe > thead > tr,\n",
              ".dataframe > tbody > tr {\n",
              "  text-align: right;\n",
              "  white-space: pre-wrap;\n",
              "}\n",
              "</style>\n",
              "<small>shape: (22, 6)</small><table border=\"1\" class=\"dataframe\"><thead><tr><th>store_id</th><th>name</th><th>revenue</th><th>cost</th><th>margin_dollar</th><th>margin_pct</th></tr><tr><td>str</td><td>str</td><td>i64</td><td>i64</td><td>i64</td><td>f64</td></tr></thead><tbody><tr><td>&quot;a9128331-08d7-41a2-b615-21283e…</td><td>&quot;for richer or pourover &quot;</td><td>6436500</td><td>753990</td><td>5682510</td><td>0.882857</td></tr><tr><td>&quot;a9128331-08d7-41a2-b615-21283e…</td><td>&quot;tangaroo&quot;</td><td>5619600</td><td>768012</td><td>4851588</td><td>0.863333</td></tr><tr><td>&quot;a9128331-08d7-41a2-b615-21283e…</td><td>&quot;vanilla ice&quot;</td><td>5421600</td><td>1391544</td><td>4030056</td><td>0.743333</td></tr><tr><td>&quot;a2a24e87-dec8-4f5d-9c9e-0e9849…</td><td>&quot;for richer or pourover &quot;</td><td>3515400</td><td>411804</td><td>3103596</td><td>0.882857</td></tr><tr><td>&quot;a9128331-08d7-41a2-b615-21283e…</td><td>&quot;adele-ade&quot;</td><td>3604000</td><td>567630</td><td>3036370</td><td>0.8425</td></tr><tr><td>&hellip;</td><td>&hellip;</td><td>&hellip;</td><td>&hellip;</td><td>&hellip;</td><td>&hellip;</td></tr><tr><td>&quot;a2a24e87-dec8-4f5d-9c9e-0e9849…</td><td>&quot;nutellaphone who dis?&quot;</td><td>1435500</td><td>157905</td><td>1277595</td><td>0.89</td></tr><tr><td>&quot;a2a24e87-dec8-4f5d-9c9e-0e9849…</td><td>&quot;the krautback&quot;</td><td>1576800</td><td>480924</td><td>1095876</td><td>0.695</td></tr><tr><td>&quot;a2a24e87-dec8-4f5d-9c9e-0e9849…</td><td>&quot;doctor stew&quot;</td><td>1412400</td><td>322284</td><td>1090116</td><td>0.771818</td></tr><tr><td>&quot;a9128331-08d7-41a2-b615-21283e…</td><td>null</td><td>0</td><td>0</td><td>0</td><td>NaN</td></tr><tr><td>&quot;a2a24e87-dec8-4f5d-9c9e-0e9849…</td><td>null</td><td>0</td><td>0</td><td>0</td><td>NaN</td></tr></tbody></table></div>"
            ]
          },
          "metadata": {},
          "execution_count": 47
        }
      ],
      "source": [
        "# Q5.4: Profitability by store\n",
        "# Your code here\n",
        "\n",
        "# Join items with products and supplies to get revenue and cost per item\n",
        "items_with_profit = items.join(products, on=\"sku\", how=\"left\").with_columns(\n",
        "    (pl.col(\"price\") * 1).alias(\"revenue\") # Assuming quantity of 1 per row in items\n",
        ").join(supplies.group_by(\"sku\").agg(pl.sum(\"cost\").alias(\"total_supply_cost_per_unit\")), on=\"sku\", how=\"left\").with_columns(\n",
        "    (pl.col(\"total_supply_cost_per_unit\") * 1).alias(\"cost\") # Assuming quantity of 1 per row in items\n",
        ").with_columns(\n",
        "    (pl.col(\"revenue\") - pl.col(\"cost\")).alias(\"margin_dollar\")\n",
        ")\n",
        "\n",
        "# Join items_with_profit with orders to get order details\n",
        "orders_with_profit = orders.join(items_with_profit, left_on=\"id\", right_on=\"order_id\", how=\"left\")\n",
        "\n",
        "# Join orders_with_profit with stores to get store details\n",
        "store_profitability = (\n",
        "    orders_with_profit.join(stores, left_on=\"store_id\", right_on=\"id\", how=\"left\")\n",
        "        .group_by([\"store_id\", \"name\"]) # Group by store id and name\n",
        "        .agg([\n",
        "            pl.sum(\"revenue\").alias(\"revenue\"),\n",
        "            pl.sum(\"cost\").alias(\"cost\"),\n",
        "            pl.sum(\"margin_dollar\").alias(\"margin_dollar\"),\n",
        "        ])\n",
        "        .with_columns((pl.col(\"margin_dollar\") / pl.col(\"revenue\")).alias(\"margin_pct\"))\n",
        "        .sort(\"margin_dollar\", descending=True)\n",
        ")\n",
        "store_profitability"
      ]
    },
    {
      "cell_type": "markdown",
      "metadata": {
        "id": "YPyS1lzVAFPb"
      },
      "source": [
        "## Question 6: Business Optimization Recommendations\n",
        "\n",
        "Based on your analysis, provide three specific, data-driven recommendations to improve business performance. Support each recommendation with relevant metrics and visualizations."
      ]
    },
    {
      "cell_type": "markdown",
      "metadata": {
        "id": "zVX0p5fiAFPb"
      },
      "source": [
        "### Recommendation 1:\n",
        "[Write your first recommendation here] Double-down on top-margin SKUs (esp. beverages); premium placement + smart bundles.  product_margins shows several SKUs with 80–90% margin% and very high margin dollars. Feature these on the menu/app, test a small price lift (2–5%), and bundle them with jaffles (“Combo +$X drink”) to push mix toward high-margin items."
      ]
    },
    {
      "cell_type": "code",
      "execution_count": 48,
      "metadata": {
        "colab": {
          "base_uri": "https://localhost:8080/",
          "height": 424
        },
        "id": "ZcsT3RQtAFPb",
        "outputId": "2c374ffc-d4a2-4b62-c3b4-a52dc53a6d50"
      },
      "outputs": [
        {
          "output_type": "stream",
          "name": "stdout",
          "text": [
            "Top 10 margin-% SKUs contribute 100.00% of total margin in the period.\n"
          ]
        },
        {
          "output_type": "display_data",
          "data": {
            "text/plain": [
              "<Figure size 900x400 with 1 Axes>"
            ],
            "image/png": "[encoded data removed]"
          },
          "metadata": {}
        }
      ],
      "source": [
        "# Supporting analysis for Recommendation 1\n",
        "# Your code here\n",
        "\n",
        "topn = 10\n",
        "\n",
        "r1_top = (\n",
        "    product_margins\n",
        "    .select([\"name\", \"revenue\", \"margin_dollar\", \"margin_pct\"])\n",
        "    .sort(\"margin_pct\", descending=True)\n",
        "    .head(topn)\n",
        ")\n",
        "\n",
        "total_margin = product_margins[\"margin_dollar\"].sum()\n",
        "contrib = (r1_top[\"margin_dollar\"].sum() / total_margin)\n",
        "print(f\"Top {topn} margin-% SKUs contribute {contrib:.2%} of total margin in the period.\")\n",
        "\n",
        "# Chart: margin % for top SKUs\n",
        "fig, ax = plt.subplots(figsize=(9,4))\n",
        "ax.bar(r1_top[\"name\"].to_list(), r1_top[\"margin_pct\"].to_list())\n",
        "ax.set_title(f\"Top {topn} SKUs by Margin %\")\n",
        "ax.set_xlabel(\"SKU\")\n",
        "ax.set_ylabel(\"Margin %\")\n",
        "ax.tick_params(axis='x', rotation=45)\n",
        "plt.tight_layout(); plt.show()\n"
      ]
    },
    {
      "cell_type": "markdown",
      "metadata": {
        "id": "JGzsMbMTAFPb"
      },
      "source": [
        "### Recommendation 2:\n",
        "[Write your second recommendation here]Grow basket size (convert 1-item orders to 2+ with attach offers)order_size_profitability indicates many single-item orders; moving even a slice to 2 items materially raises order margin. Use POS prompts (“Add a drink for +$X”), combo pricing, and default suggestions online."
      ]
    },
    {
      "cell_type": "code",
      "execution_count": 50,
      "metadata": {
        "colab": {
          "base_uri": "https://localhost:8080/",
          "height": 459
        },
        "id": "GWPjpNQqAFPb",
        "outputId": "366932af-d993-4a43-e76e-0307035a91e6"
      },
      "outputs": [
        {
          "output_type": "stream",
          "name": "stdout",
          "text": [
            "Uplift if 10% of 1-item orders become 2-item: +3,685,672 margin over the observed period.\n"
          ]
        },
        {
          "output_type": "stream",
          "name": "stderr",
          "text": [
            "/tmp/ipython-input-616594965.py:8: DeprecationWarning: `pl.count()` is deprecated. Please use `pl.len()` instead.\n",
            "  pl.count().alias(\"orders\"),\n"
          ]
        },
        {
          "output_type": "display_data",
          "data": {
            "text/plain": [
              "<Figure size 700x400 with 1 Axes>"
            ],
            "image/png": "[encoded data removed]"
          },
          "metadata": {}
        }
      ],
      "source": [
        "# Supporting analysis for Recommendation 2\n",
        "# Your code here\n",
        "r2_grp = (\n",
        "    order_size_profitability\n",
        "    .with_columns(pl.col(\"items_count\").clip(upper_bound=4).alias(\"items_count_clipped\"))  # bucket 4+ together\n",
        "    .group_by(\"items_count_clipped\")\n",
        "    .agg([\n",
        "        pl.count().alias(\"orders\"),\n",
        "        pl.mean(\"order_value\").alias(\"avg_value\"),\n",
        "        pl.mean(\"order_margin\").alias(\"avg_margin\"),\n",
        "        pl.mean(\"order_margin_pct\").alias(\"avg_margin_pct\"),\n",
        "    ])\n",
        "    .sort(\"items_count_clipped\")\n",
        ")\n",
        "\n",
        "total_orders = order_size_profitability.height\n",
        "one_item_orders = order_size_profitability.filter(pl.col(\"items_count\")==1).height\n",
        "\n",
        "avg_margin_1 = r2_grp.filter(pl.col(\"items_count_clipped\")==1)[\"avg_margin\"][0]\n",
        "avg_margin_2 = (\n",
        "    r2_grp.filter(pl.col(\"items_count_clipped\")==2)[\"avg_margin\"][0]\n",
        "    if 2 in r2_grp[\"items_count_clipped\"].to_list() else None\n",
        ")\n",
        "\n",
        "if avg_margin_2 is not None:\n",
        "    convert_n = int(round(one_item_orders * 0.10))  # example: convert 10% of 1-item orders\n",
        "    uplift_estimate = (avg_margin_2 - avg_margin_1) * convert_n\n",
        "    print(f\"Uplift if 10% of 1-item orders become 2-item: +{uplift_estimate:,.0f} margin over the observed period.\")\n",
        "else:\n",
        "    print(\"No 2-item orders observed—cannot estimate uplift.\")\n",
        "\n",
        "# Chart: average order margin by basket size\n",
        "fig, ax = plt.subplots(figsize=(7,4))\n",
        "ax.bar(r2_grp[\"items_count_clipped\"].to_list(), r2_grp[\"avg_margin\"].to_list())\n",
        "ax.set_title(\"Average Order Margin by Basket Size\")\n",
        "ax.set_xlabel(\"Items per Order\")\n",
        "ax.set_ylabel(\"Average Margin\")\n",
        "plt.tight_layout(); plt.show()"
      ]
    },
    {
      "cell_type": "markdown",
      "metadata": {
        "id": "wuMNzxv3AFPb"
      },
      "source": [
        "### Recommendation 3:\n",
        "[Write your third recommendation here]Raise bottom-quartile stores to the median margin%"
      ]
    },
    {
      "cell_type": "code",
      "execution_count": 58,
      "metadata": {
        "colab": {
          "base_uri": "https://localhost:8080/",
          "height": 424
        },
        "id": "uynwYDj9AFPb",
        "outputId": "1692e561-b656-4ab8-caa4-0ed841907942"
      },
      "outputs": [
        {
          "output_type": "stream",
          "name": "stdout",
          "text": [
            "Potential margin$ lift if bottom-quartile stores reach median margin%: 1,765,681\n"
          ]
        },
        {
          "output_type": "display_data",
          "data": {
            "text/plain": [
              "<Figure size 900x400 with 1 Axes>"
            ],
            "image/png": "[encoded data removed]"
          },
          "metadata": {}
        }
      ],
      "source": [
        "# Supporting analysis for Recommendation 3\n",
        "# Your code here\n",
        "\n",
        "sp = (\n",
        "    store_profitability\n",
        "    .filter(pl.col(\"revenue\") > 0)\n",
        "    .with_columns(pl.col(\"margin_pct\").fill_null(0))\n",
        ")\n",
        "\n",
        "label_col = \"name\" if \"name\" in sp.columns else (\"store_label\" if \"store_label\" in sp.columns else \"store_id\")\n",
        "\n",
        "q1 = sp.select(pl.col(\"margin_pct\").quantile(0.25)).item()\n",
        "median_margin = sp.select(pl.col(\"margin_pct\").median()).item()\n",
        "low_margin = sp.filter(pl.col(\"margin_pct\") <= q1)\n",
        "\n",
        "potential_lift = (\n",
        "    low_margin\n",
        "    .with_columns((pl.lit(median_margin) - pl.col(\"margin_pct\")).clip(lower_bound=0).alias(\"gap\"))\n",
        "    .with_columns((pl.col(\"gap\") * pl.col(\"revenue\")).alias(\"lift\"))\n",
        "    .select(pl.col(\"lift\").sum())\n",
        "    .item()\n",
        ")\n",
        "\n",
        "print(f\"Potential margin$ lift if bottom-quartile stores reach median margin%: {potential_lift:,.0f}\")\n",
        "\n",
        "targets = low_margin.select([label_col, \"revenue\", \"margin_dollar\", \"margin_pct\"]).sort(\"margin_pct\")\n",
        "targets\n",
        "\n",
        "plot_df = sp.sort(\"margin_pct\").head(min(10, sp.height))\n",
        "fig, ax = plt.subplots(figsize=(9,4))\n",
        "ax.bar(plot_df.get_column(label_col).to_list(), plot_df.get_column(\"margin_pct\").to_list())\n",
        "ax.set_title(\"Lowest Margin% Stores\")\n",
        "ax.set_xlabel(\"Store\")\n",
        "ax.set_ylabel(\"Margin %\")\n",
        "ax.tick_params(axis='x', rotation=45)\n",
        "plt.tight_layout(); plt.show()"
      ]
    },
    {
      "cell_type": "markdown",
      "metadata": {
        "id": "TWa8mFxMAFPb"
      },
      "source": [
        "## Executive Summary\n",
        "\n",
        "[Write your executive summary here - up to 1 page when printed]\n",
        "This analysis of Jaffle Shop’s financial, product, and customer data highlights how revenue and profitability are distributed across stores, categories, and customer segments. The findings reveal strong overall performance, but also areas where efficiency and strategic focus can meaningfully improve margins and growth.\n",
        "\n",
        "### Key Findings:\n",
        "1. Revenue Concentration by Stores and Products\n",
        "A few stores (e.g., For Richer or Pour Over and Tangaroo) and products contribute disproportionately to total revenue. At the same time, certain locations show significantly lower daily revenue and margin percentages, suggesting uneven operational performance.\n",
        "2. Profitability is Driven by High-Margin Beverages\n",
        "Beverages such as For Richer or Pour Over and Tangaroo consistently show the highest profit margins (>85%). In contrast, some menu items (e.g., The Krautback) generate lower margins, indicating potential inefficiency in pricing or sourcing.\n",
        "3. Customer Dynamics Drive Growth Potential\n",
        "Repeat customers contribute heavily to revenue, while a smaller group of “top customers” accounts for an outsized share of total sales. There is also evidence that larger order sizes correlate with higher profitability, reinforcing the value of upselling and cross-selling.\n",
        "\n",
        "### Strategic Recommendations:\n",
        "1. Focus Expansion on High-Performing Stores and Products\n",
        "Allocate resources and marketing toward stores with consistently high daily revenue and margins (e.g., For Richer or Pour Over). Similarly, prioritize beverages with superior margins in promotions and potential menu expansion. Underperforming locations may need operational improvements or re-positioning.\n",
        "2.Optimize Menu for Profitability\n",
        "Streamline offerings by reducing focus on low-margin items like The Krautback. Instead, enhance visibility and upselling of high-margin beverages and top-performing jaffles. Consider renegotiating supply costs or adjusting pricing on lower-margin products to improve contribution.\n",
        "3. Leverage Customer Behavior for Revenue Growth\n",
        "Invest in loyalty programs and personalized marketing that encourage repeat purchases from high-value customers. Additionally, design bundled offers or upsell strategies to increase average order size, which is positively correlated with profitability."
      ]
    },
    {
      "cell_type": "code",
      "source": [],
      "metadata": {
        "id": "n4vC03gTKADQ"
      },
      "execution_count": null,
      "outputs": []
    }
  ],
  "metadata": {
    "kernelspec": {
      "display_name": "opan5510-finalproject",
      "language": "python",
      "name": "python3"
    },
    "language_info": {
      "codemirror_mode": {
        "name": "ipython",
        "version": 3
      },
      "file_extension": ".py",
      "mimetype": "text/x-python",
      "name": "python",
      "nbconvert_exporter": "python",
      "pygments_lexer": "ipython3",
      "version": "3.12.10"
    },
    "colab": {
      "provenance": []
    }
  },
  "nbformat": 4,
  "nbformat_minor": 0
}